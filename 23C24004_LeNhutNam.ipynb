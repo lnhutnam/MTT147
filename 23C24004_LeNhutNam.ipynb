{
 "cells": [
  {
   "cell_type": "markdown",
   "id": "2bb7b034-bda3-4bff-91fb-b6db87d44488",
   "metadata": {},
   "source": [
    "## Tải dữ liệu"
   ]
  },
  {
   "cell_type": "code",
   "execution_count": 47,
   "id": "7525ff3c-7bf1-4d9e-9a02-a8ec3b179b9e",
   "metadata": {
    "vscode": {
     "languageId": "r"
    }
   },
   "outputs": [],
   "source": [
    "library(tidyverse) ##tidyverse for easy data manipulation and visualization\n",
    "library(caret) ## caret for easy machine learning workflow\n",
    "library(plot3D)"
   ]
  },
  {
   "cell_type": "code",
   "execution_count": 1,
   "id": "c812fbae-399b-445c-a9fc-cbd96db439ee",
   "metadata": {
    "vscode": {
     "languageId": "r"
    }
   },
   "outputs": [
    {
     "data": {
      "text/html": [
       "<table class=\"dataframe\">\n",
       "<caption>A data.frame: 6 × 7</caption>\n",
       "<thead>\n",
       "\t<tr><th></th><th scope=col>Year</th><th scope=col>Price</th><th scope=col>WinterRain</th><th scope=col>AGST</th><th scope=col>HarvestRain</th><th scope=col>Age</th><th scope=col>FrancePop</th></tr>\n",
       "\t<tr><th></th><th scope=col>&lt;int&gt;</th><th scope=col>&lt;dbl&gt;</th><th scope=col>&lt;int&gt;</th><th scope=col>&lt;dbl&gt;</th><th scope=col>&lt;int&gt;</th><th scope=col>&lt;int&gt;</th><th scope=col>&lt;dbl&gt;</th></tr>\n",
       "</thead>\n",
       "<tbody>\n",
       "\t<tr><th scope=row>1</th><td>1952</td><td>7.4950</td><td>600</td><td>17.1167</td><td>160</td><td>31</td><td>43183.57</td></tr>\n",
       "\t<tr><th scope=row>2</th><td>1953</td><td>8.0393</td><td>690</td><td>16.7333</td><td> 80</td><td>30</td><td>43495.03</td></tr>\n",
       "\t<tr><th scope=row>3</th><td>1955</td><td>7.6858</td><td>502</td><td>17.1500</td><td>130</td><td>28</td><td>44217.86</td></tr>\n",
       "\t<tr><th scope=row>4</th><td>1957</td><td>6.9845</td><td>420</td><td>16.1333</td><td>110</td><td>26</td><td>45152.25</td></tr>\n",
       "\t<tr><th scope=row>5</th><td>1958</td><td>6.7772</td><td>582</td><td>16.4167</td><td>187</td><td>25</td><td>45653.81</td></tr>\n",
       "\t<tr><th scope=row>6</th><td>1959</td><td>8.0757</td><td>485</td><td>17.4833</td><td>187</td><td>24</td><td>46128.64</td></tr>\n",
       "</tbody>\n",
       "</table>\n"
      ],
      "text/latex": [
       "A data.frame: 6 × 7\n",
       "\\begin{tabular}{r|lllllll}\n",
       "  & Year & Price & WinterRain & AGST & HarvestRain & Age & FrancePop\\\\\n",
       "  & <int> & <dbl> & <int> & <dbl> & <int> & <int> & <dbl>\\\\\n",
       "\\hline\n",
       "\t1 & 1952 & 7.4950 & 600 & 17.1167 & 160 & 31 & 43183.57\\\\\n",
       "\t2 & 1953 & 8.0393 & 690 & 16.7333 &  80 & 30 & 43495.03\\\\\n",
       "\t3 & 1955 & 7.6858 & 502 & 17.1500 & 130 & 28 & 44217.86\\\\\n",
       "\t4 & 1957 & 6.9845 & 420 & 16.1333 & 110 & 26 & 45152.25\\\\\n",
       "\t5 & 1958 & 6.7772 & 582 & 16.4167 & 187 & 25 & 45653.81\\\\\n",
       "\t6 & 1959 & 8.0757 & 485 & 17.4833 & 187 & 24 & 46128.64\\\\\n",
       "\\end{tabular}\n"
      ],
      "text/markdown": [
       "\n",
       "A data.frame: 6 × 7\n",
       "\n",
       "| <!--/--> | Year &lt;int&gt; | Price &lt;dbl&gt; | WinterRain &lt;int&gt; | AGST &lt;dbl&gt; | HarvestRain &lt;int&gt; | Age &lt;int&gt; | FrancePop &lt;dbl&gt; |\n",
       "|---|---|---|---|---|---|---|---|\n",
       "| 1 | 1952 | 7.4950 | 600 | 17.1167 | 160 | 31 | 43183.57 |\n",
       "| 2 | 1953 | 8.0393 | 690 | 16.7333 |  80 | 30 | 43495.03 |\n",
       "| 3 | 1955 | 7.6858 | 502 | 17.1500 | 130 | 28 | 44217.86 |\n",
       "| 4 | 1957 | 6.9845 | 420 | 16.1333 | 110 | 26 | 45152.25 |\n",
       "| 5 | 1958 | 6.7772 | 582 | 16.4167 | 187 | 25 | 45653.81 |\n",
       "| 6 | 1959 | 8.0757 | 485 | 17.4833 | 187 | 24 | 46128.64 |\n",
       "\n"
      ],
      "text/plain": [
       "  Year Price  WinterRain AGST    HarvestRain Age FrancePop\n",
       "1 1952 7.4950 600        17.1167 160         31  43183.57 \n",
       "2 1953 8.0393 690        16.7333  80         30  43495.03 \n",
       "3 1955 7.6858 502        17.1500 130         28  44217.86 \n",
       "4 1957 6.9845 420        16.1333 110         26  45152.25 \n",
       "5 1958 6.7772 582        16.4167 187         25  45653.81 \n",
       "6 1959 8.0757 485        17.4833 187         24  46128.64 "
      ]
     },
     "metadata": {},
     "output_type": "display_data"
    }
   ],
   "source": [
    "# Tải dữ liệu\n",
    "wine <- read.table(file = \"./data/wine.csv\", header = TRUE, sep = \",\")\n",
    "head(wine)"
   ]
  },
  {
   "cell_type": "code",
   "execution_count": 2,
   "id": "c8994b1a-9a24-4e3a-9502-52962e0bfa9a",
   "metadata": {
    "vscode": {
     "languageId": "r"
    }
   },
   "outputs": [
    {
     "data": {
      "text/html": [
       "<style>\n",
       ".list-inline {list-style: none; margin:0; padding: 0}\n",
       ".list-inline>li {display: inline-block}\n",
       ".list-inline>li:not(:last-child)::after {content: \"\\00b7\"; padding: 0 .5ex}\n",
       "</style>\n",
       "<ol class=list-inline><li>27</li><li>7</li></ol>\n"
      ],
      "text/latex": [
       "\\begin{enumerate*}\n",
       "\\item 27\n",
       "\\item 7\n",
       "\\end{enumerate*}\n"
      ],
      "text/markdown": [
       "1. 27\n",
       "2. 7\n",
       "\n",
       "\n"
      ],
      "text/plain": [
       "[1] 27  7"
      ]
     },
     "metadata": {},
     "output_type": "display_data"
    }
   ],
   "source": [
    "# Kích thước của dữ liệu\n",
    "dim(wine)"
   ]
  },
  {
   "cell_type": "code",
   "execution_count": 3,
   "id": "56f94f25-3e2e-4b6b-b67c-db0bb8f6760f",
   "metadata": {
    "vscode": {
     "languageId": "r"
    }
   },
   "outputs": [
    {
     "name": "stdout",
     "output_type": "stream",
     "text": [
      "'data.frame':\t27 obs. of  7 variables:\n",
      " $ Year       : int  1952 1953 1955 1957 1958 1959 1960 1961 1962 1963 ...\n",
      " $ Price      : num  7.5 8.04 7.69 6.98 6.78 ...\n",
      " $ WinterRain : int  600 690 502 420 582 485 763 830 697 608 ...\n",
      " $ AGST       : num  17.1 16.7 17.1 16.1 16.4 ...\n",
      " $ HarvestRain: int  160 80 130 110 187 187 290 38 52 155 ...\n",
      " $ Age        : int  31 30 28 26 25 24 23 22 21 20 ...\n",
      " $ FrancePop  : num  43184 43495 44218 45152 45654 ...\n"
     ]
    }
   ],
   "source": [
    "# Xem một số quan trắc\n",
    "str(wine)"
   ]
  },
  {
   "cell_type": "code",
   "execution_count": 4,
   "id": "2dc2d390-c7bb-4ad3-8c21-5e7b7048934a",
   "metadata": {
    "vscode": {
     "languageId": "r"
    }
   },
   "outputs": [
    {
     "data": {
      "text/html": [
       "<table class=\"dataframe\">\n",
       "<caption>A data.frame: 0 × 7</caption>\n",
       "<thead>\n",
       "\t<tr><th scope=col>Year</th><th scope=col>Price</th><th scope=col>WinterRain</th><th scope=col>AGST</th><th scope=col>HarvestRain</th><th scope=col>Age</th><th scope=col>FrancePop</th></tr>\n",
       "\t<tr><th scope=col>&lt;int&gt;</th><th scope=col>&lt;dbl&gt;</th><th scope=col>&lt;int&gt;</th><th scope=col>&lt;dbl&gt;</th><th scope=col>&lt;int&gt;</th><th scope=col>&lt;int&gt;</th><th scope=col>&lt;dbl&gt;</th></tr>\n",
       "</thead>\n",
       "<tbody>\n",
       "</tbody>\n",
       "</table>\n"
      ],
      "text/latex": [
       "A data.frame: 0 × 7\n",
       "\\begin{tabular}{lllllll}\n",
       " Year & Price & WinterRain & AGST & HarvestRain & Age & FrancePop\\\\\n",
       " <int> & <dbl> & <int> & <dbl> & <int> & <int> & <dbl>\\\\\n",
       "\\hline\n",
       "\\end{tabular}\n"
      ],
      "text/markdown": [
       "\n",
       "A data.frame: 0 × 7\n",
       "\n",
       "| Year &lt;int&gt; | Price &lt;dbl&gt; | WinterRain &lt;int&gt; | AGST &lt;dbl&gt; | HarvestRain &lt;int&gt; | Age &lt;int&gt; | FrancePop &lt;dbl&gt; |\n",
       "|---|---|---|---|---|---|---|\n",
       "\n"
      ],
      "text/plain": [
       "     Year Price WinterRain AGST HarvestRain Age FrancePop"
      ]
     },
     "metadata": {},
     "output_type": "display_data"
    }
   ],
   "source": [
    "# Kiểm tra dữ liệu trùng lặp\n",
    "duplicates <- wine[duplicated(wine), ]\n",
    "duplicate_counts <- table(wine[duplicated(wine), ])\n",
    "duplicates # Không có dữ liệu trùng lặp"
   ]
  },
  {
   "cell_type": "code",
   "execution_count": 5,
   "id": "0a2c5570-24dc-43db-8843-7c69f4149e5b",
   "metadata": {
    "vscode": {
     "languageId": "r"
    }
   },
   "outputs": [
    {
     "data": {
      "text/plain": [
       "      Year          Price         WinterRain         AGST        HarvestRain   \n",
       " Min.   :1952   Min.   :6.205   Min.   :376.0   Min.   :14.98   Min.   : 38.0  \n",
       " 1st Qu.:1960   1st Qu.:6.508   1st Qu.:543.5   1st Qu.:16.15   1st Qu.: 88.0  \n",
       " Median :1967   Median :6.984   Median :600.0   Median :16.42   Median :123.0  \n",
       " Mean   :1967   Mean   :7.042   Mean   :608.4   Mean   :16.48   Mean   :144.8  \n",
       " 3rd Qu.:1974   3rd Qu.:7.441   3rd Qu.:705.5   3rd Qu.:17.01   3rd Qu.:185.5  \n",
       " Max.   :1980   Max.   :8.494   Max.   :830.0   Max.   :17.65   Max.   :292.0  \n",
       "      Age          FrancePop    \n",
       " Min.   : 3.00   Min.   :43184  \n",
       " 1st Qu.: 9.50   1st Qu.:46856  \n",
       " Median :16.00   Median :50650  \n",
       " Mean   :16.19   Mean   :50085  \n",
       " 3rd Qu.:22.50   3rd Qu.:53511  \n",
       " Max.   :31.00   Max.   :55110  "
      ]
     },
     "metadata": {},
     "output_type": "display_data"
    }
   ],
   "source": [
    "# Một số thống kê mô tả cho bộ dữ liệu\n",
    "summary(wine)"
   ]
  },
  {
   "cell_type": "markdown",
   "id": "aa588a05-cc79-4ad4-9cdf-c33698213edc",
   "metadata": {},
   "source": [
    "## Khám phá dữ liệu"
   ]
  },
  {
   "cell_type": "code",
   "execution_count": 29,
   "id": "37a90f1d-a124-48b8-860e-23e7a9a5fa7a",
   "metadata": {
    "vscode": {
     "languageId": "r"
    }
   },
   "outputs": [
    {
     "data": {
      "text/html": [
       "<table class=\"dataframe\">\n",
       "<caption>A matrix: 7 × 7 of type dbl</caption>\n",
       "<thead>\n",
       "\t<tr><th></th><th scope=col>Year</th><th scope=col>Price</th><th scope=col>WinterRain</th><th scope=col>AGST</th><th scope=col>HarvestRain</th><th scope=col>Age</th><th scope=col>FrancePop</th></tr>\n",
       "</thead>\n",
       "<tbody>\n",
       "\t<tr><th scope=row>Year</th><td> 1.00000000</td><td>-0.4604087</td><td> 0.05118354</td><td>-0.29488335</td><td>-0.05884976</td><td>-1.00000000</td><td> 0.99227908</td></tr>\n",
       "\t<tr><th scope=row>Price</th><td>-0.46040873</td><td> 1.0000000</td><td> 0.13488004</td><td> 0.66752483</td><td>-0.50718463</td><td> 0.46040873</td><td>-0.48107195</td></tr>\n",
       "\t<tr><th scope=row>WinterRain</th><td> 0.05118354</td><td> 0.1348800</td><td> 1.00000000</td><td>-0.32113230</td><td>-0.26798907</td><td>-0.05118354</td><td> 0.02945091</td></tr>\n",
       "\t<tr><th scope=row>AGST</th><td>-0.29488335</td><td> 0.6675248</td><td>-0.32113230</td><td> 1.00000000</td><td>-0.02708361</td><td> 0.29488335</td><td>-0.30126148</td></tr>\n",
       "\t<tr><th scope=row>HarvestRain</th><td>-0.05884976</td><td>-0.5071846</td><td>-0.26798907</td><td>-0.02708361</td><td> 1.00000000</td><td> 0.05884976</td><td>-0.03201463</td></tr>\n",
       "\t<tr><th scope=row>Age</th><td>-1.00000000</td><td> 0.4604087</td><td>-0.05118354</td><td> 0.29488335</td><td> 0.05884976</td><td> 1.00000000</td><td>-0.99227908</td></tr>\n",
       "\t<tr><th scope=row>FrancePop</th><td> 0.99227908</td><td>-0.4810720</td><td> 0.02945091</td><td>-0.30126148</td><td>-0.03201463</td><td>-0.99227908</td><td> 1.00000000</td></tr>\n",
       "</tbody>\n",
       "</table>\n"
      ],
      "text/latex": [
       "A matrix: 7 × 7 of type dbl\n",
       "\\begin{tabular}{r|lllllll}\n",
       "  & Year & Price & WinterRain & AGST & HarvestRain & Age & FrancePop\\\\\n",
       "\\hline\n",
       "\tYear &  1.00000000 & -0.4604087 &  0.05118354 & -0.29488335 & -0.05884976 & -1.00000000 &  0.99227908\\\\\n",
       "\tPrice & -0.46040873 &  1.0000000 &  0.13488004 &  0.66752483 & -0.50718463 &  0.46040873 & -0.48107195\\\\\n",
       "\tWinterRain &  0.05118354 &  0.1348800 &  1.00000000 & -0.32113230 & -0.26798907 & -0.05118354 &  0.02945091\\\\\n",
       "\tAGST & -0.29488335 &  0.6675248 & -0.32113230 &  1.00000000 & -0.02708361 &  0.29488335 & -0.30126148\\\\\n",
       "\tHarvestRain & -0.05884976 & -0.5071846 & -0.26798907 & -0.02708361 &  1.00000000 &  0.05884976 & -0.03201463\\\\\n",
       "\tAge & -1.00000000 &  0.4604087 & -0.05118354 &  0.29488335 &  0.05884976 &  1.00000000 & -0.99227908\\\\\n",
       "\tFrancePop &  0.99227908 & -0.4810720 &  0.02945091 & -0.30126148 & -0.03201463 & -0.99227908 &  1.00000000\\\\\n",
       "\\end{tabular}\n"
      ],
      "text/markdown": [
       "\n",
       "A matrix: 7 × 7 of type dbl\n",
       "\n",
       "| <!--/--> | Year | Price | WinterRain | AGST | HarvestRain | Age | FrancePop |\n",
       "|---|---|---|---|---|---|---|---|\n",
       "| Year |  1.00000000 | -0.4604087 |  0.05118354 | -0.29488335 | -0.05884976 | -1.00000000 |  0.99227908 |\n",
       "| Price | -0.46040873 |  1.0000000 |  0.13488004 |  0.66752483 | -0.50718463 |  0.46040873 | -0.48107195 |\n",
       "| WinterRain |  0.05118354 |  0.1348800 |  1.00000000 | -0.32113230 | -0.26798907 | -0.05118354 |  0.02945091 |\n",
       "| AGST | -0.29488335 |  0.6675248 | -0.32113230 |  1.00000000 | -0.02708361 |  0.29488335 | -0.30126148 |\n",
       "| HarvestRain | -0.05884976 | -0.5071846 | -0.26798907 | -0.02708361 |  1.00000000 |  0.05884976 | -0.03201463 |\n",
       "| Age | -1.00000000 |  0.4604087 | -0.05118354 |  0.29488335 |  0.05884976 |  1.00000000 | -0.99227908 |\n",
       "| FrancePop |  0.99227908 | -0.4810720 |  0.02945091 | -0.30126148 | -0.03201463 | -0.99227908 |  1.00000000 |\n",
       "\n"
      ],
      "text/plain": [
       "            Year        Price      WinterRain  AGST        HarvestRain\n",
       "Year         1.00000000 -0.4604087  0.05118354 -0.29488335 -0.05884976\n",
       "Price       -0.46040873  1.0000000  0.13488004  0.66752483 -0.50718463\n",
       "WinterRain   0.05118354  0.1348800  1.00000000 -0.32113230 -0.26798907\n",
       "AGST        -0.29488335  0.6675248 -0.32113230  1.00000000 -0.02708361\n",
       "HarvestRain -0.05884976 -0.5071846 -0.26798907 -0.02708361  1.00000000\n",
       "Age         -1.00000000  0.4604087 -0.05118354  0.29488335  0.05884976\n",
       "FrancePop    0.99227908 -0.4810720  0.02945091 -0.30126148 -0.03201463\n",
       "            Age         FrancePop  \n",
       "Year        -1.00000000  0.99227908\n",
       "Price        0.46040873 -0.48107195\n",
       "WinterRain  -0.05118354  0.02945091\n",
       "AGST         0.29488335 -0.30126148\n",
       "HarvestRain  0.05884976 -0.03201463\n",
       "Age          1.00000000 -0.99227908\n",
       "FrancePop   -0.99227908  1.00000000"
      ]
     },
     "metadata": {},
     "output_type": "display_data"
    }
   ],
   "source": [
    "correlation_matrix <- cor(wine)\n",
    "correlation_matrix"
   ]
  },
  {
   "cell_type": "code",
   "execution_count": 7,
   "id": "7bedccbd-3b13-4a09-8c9d-6211ecec16c3",
   "metadata": {
    "vscode": {
     "languageId": "r"
    }
   },
   "outputs": [
    {
     "data": {
      "text/html": [
       "<table class=\"dataframe\">\n",
       "<caption>A matrix: 7 × 7 of type dbl</caption>\n",
       "<thead>\n",
       "\t<tr><th></th><th scope=col>Year</th><th scope=col>Price</th><th scope=col>WinterRain</th><th scope=col>AGST</th><th scope=col>HarvestRain</th><th scope=col>Age</th><th scope=col>FrancePop</th></tr>\n",
       "</thead>\n",
       "<tbody>\n",
       "\t<tr><th scope=row>Year</th><td> 1.00</td><td>-0.46</td><td> 0.05</td><td>-0.29</td><td>-0.06</td><td>-1.00</td><td> 0.99</td></tr>\n",
       "\t<tr><th scope=row>Price</th><td>-0.46</td><td> 1.00</td><td> 0.13</td><td> 0.67</td><td>-0.51</td><td> 0.46</td><td>-0.48</td></tr>\n",
       "\t<tr><th scope=row>WinterRain</th><td> 0.05</td><td> 0.13</td><td> 1.00</td><td>-0.32</td><td>-0.27</td><td>-0.05</td><td> 0.03</td></tr>\n",
       "\t<tr><th scope=row>AGST</th><td>-0.29</td><td> 0.67</td><td>-0.32</td><td> 1.00</td><td>-0.03</td><td> 0.29</td><td>-0.30</td></tr>\n",
       "\t<tr><th scope=row>HarvestRain</th><td>-0.06</td><td>-0.51</td><td>-0.27</td><td>-0.03</td><td> 1.00</td><td> 0.06</td><td>-0.03</td></tr>\n",
       "\t<tr><th scope=row>Age</th><td>-1.00</td><td> 0.46</td><td>-0.05</td><td> 0.29</td><td> 0.06</td><td> 1.00</td><td>-0.99</td></tr>\n",
       "\t<tr><th scope=row>FrancePop</th><td> 0.99</td><td>-0.48</td><td> 0.03</td><td>-0.30</td><td>-0.03</td><td>-0.99</td><td> 1.00</td></tr>\n",
       "</tbody>\n",
       "</table>\n"
      ],
      "text/latex": [
       "A matrix: 7 × 7 of type dbl\n",
       "\\begin{tabular}{r|lllllll}\n",
       "  & Year & Price & WinterRain & AGST & HarvestRain & Age & FrancePop\\\\\n",
       "\\hline\n",
       "\tYear &  1.00 & -0.46 &  0.05 & -0.29 & -0.06 & -1.00 &  0.99\\\\\n",
       "\tPrice & -0.46 &  1.00 &  0.13 &  0.67 & -0.51 &  0.46 & -0.48\\\\\n",
       "\tWinterRain &  0.05 &  0.13 &  1.00 & -0.32 & -0.27 & -0.05 &  0.03\\\\\n",
       "\tAGST & -0.29 &  0.67 & -0.32 &  1.00 & -0.03 &  0.29 & -0.30\\\\\n",
       "\tHarvestRain & -0.06 & -0.51 & -0.27 & -0.03 &  1.00 &  0.06 & -0.03\\\\\n",
       "\tAge & -1.00 &  0.46 & -0.05 &  0.29 &  0.06 &  1.00 & -0.99\\\\\n",
       "\tFrancePop &  0.99 & -0.48 &  0.03 & -0.30 & -0.03 & -0.99 &  1.00\\\\\n",
       "\\end{tabular}\n"
      ],
      "text/markdown": [
       "\n",
       "A matrix: 7 × 7 of type dbl\n",
       "\n",
       "| <!--/--> | Year | Price | WinterRain | AGST | HarvestRain | Age | FrancePop |\n",
       "|---|---|---|---|---|---|---|---|\n",
       "| Year |  1.00 | -0.46 |  0.05 | -0.29 | -0.06 | -1.00 |  0.99 |\n",
       "| Price | -0.46 |  1.00 |  0.13 |  0.67 | -0.51 |  0.46 | -0.48 |\n",
       "| WinterRain |  0.05 |  0.13 |  1.00 | -0.32 | -0.27 | -0.05 |  0.03 |\n",
       "| AGST | -0.29 |  0.67 | -0.32 |  1.00 | -0.03 |  0.29 | -0.30 |\n",
       "| HarvestRain | -0.06 | -0.51 | -0.27 | -0.03 |  1.00 |  0.06 | -0.03 |\n",
       "| Age | -1.00 |  0.46 | -0.05 |  0.29 |  0.06 |  1.00 | -0.99 |\n",
       "| FrancePop |  0.99 | -0.48 |  0.03 | -0.30 | -0.03 | -0.99 |  1.00 |\n",
       "\n"
      ],
      "text/plain": [
       "            Year  Price WinterRain AGST  HarvestRain Age   FrancePop\n",
       "Year         1.00 -0.46  0.05      -0.29 -0.06       -1.00  0.99    \n",
       "Price       -0.46  1.00  0.13       0.67 -0.51        0.46 -0.48    \n",
       "WinterRain   0.05  0.13  1.00      -0.32 -0.27       -0.05  0.03    \n",
       "AGST        -0.29  0.67 -0.32       1.00 -0.03        0.29 -0.30    \n",
       "HarvestRain -0.06 -0.51 -0.27      -0.03  1.00        0.06 -0.03    \n",
       "Age         -1.00  0.46 -0.05       0.29  0.06        1.00 -0.99    \n",
       "FrancePop    0.99 -0.48  0.03      -0.30 -0.03       -0.99  1.00    "
      ]
     },
     "metadata": {},
     "output_type": "display_data"
    }
   ],
   "source": [
    "round(cor(wine), 2)"
   ]
  },
  {
   "cell_type": "markdown",
   "id": "df4c8ee5-1d97-44ca-960a-6f90f4e847ee",
   "metadata": {},
   "source": [
    "Một số nhận xét khi xem xét tương quan giữa các biến với biến phụ thuộc (Price):\n",
    "- Biến Year có tương quan nghịch với biến Price (-0.46)\n",
    "- Biến WinterRain có tương quan dương với biến Price, nhưng tác động không cao (0.13)\n",
    "- Biến AGST có tương quan dương mạnh với biến Price, (0.67)\n",
    "- Biến HarvestRain có tương quan nghịch và mạnh với biến Price (-0.51)\n",
    "- Biến Age có tương quan dương với biến Price (0.46)\n",
    "- Biến FrancePop có tương quan nghịch với biến Price (-0.48)"
   ]
  },
  {
   "cell_type": "code",
   "execution_count": 8,
   "id": "f4542c02-b63d-488a-858b-54facd6c0461",
   "metadata": {
    "vscode": {
     "languageId": "r"
    }
   },
   "outputs": [
    {
     "data": {
      "image/png": "[encoded data removed]",
      "text/plain": [
       "plot without title"
      ]
     },
     "metadata": {
      "image/png": {
       "height": 420,
       "width": 420
      }
     },
     "output_type": "display_data"
    }
   ],
   "source": [
    "# Trực quan dữ liệu\n",
    "plot(wine)"
   ]
  },
  {
   "cell_type": "markdown",
   "id": "63eedea4-9eb0-4977-a605-53eae1e5b961",
   "metadata": {},
   "source": [
    "## Hồi quy tuyến tính đơn"
   ]
  },
  {
   "cell_type": "code",
   "execution_count": 9,
   "id": "dd7e1c97-9e5e-48c1-90b2-a5237275799b",
   "metadata": {
    "vscode": {
     "languageId": "r"
    }
   },
   "outputs": [
    {
     "data": {
      "text/plain": [
       "\n",
       "Call:\n",
       "lm(formula = Price ~ AGST, data = wine)\n",
       "\n",
       "Coefficients:\n",
       "(Intercept)         AGST  \n",
       "    -3.5469       0.6426  \n"
      ]
     },
     "metadata": {},
     "output_type": "display_data"
    }
   ],
   "source": [
    "# Do biến AGST có tương quan dương mạnh với biến Price, (0.67)\n",
    "# Nên ta thử mô hình A: Price ~ AGST\n",
    "model1 = lm(Price ~ AGST, data = wine)\n",
    "model1"
   ]
  },
  {
   "cell_type": "code",
   "execution_count": 10,
   "id": "69504b8c-6ab8-4f12-bd71-2d225a9e4af4",
   "metadata": {
    "vscode": {
     "languageId": "r"
    }
   },
   "outputs": [
    {
     "data": {
      "text/plain": [
       "\n",
       "Call:\n",
       "lm(formula = Price ~ AGST, data = wine)\n",
       "\n",
       "Residuals:\n",
       "     Min       1Q   Median       3Q      Max \n",
       "-0.78370 -0.23827 -0.03421  0.29973  0.90198 \n",
       "\n",
       "Coefficients:\n",
       "            Estimate Std. Error t value Pr(>|t|)    \n",
       "(Intercept)  -3.5469     2.3641  -1.500 0.146052    \n",
       "AGST          0.6426     0.1434   4.483 0.000143 ***\n",
       "---\n",
       "Signif. codes:  0 ‘***’ 0.001 ‘**’ 0.01 ‘*’ 0.05 ‘.’ 0.1 ‘ ’ 1\n",
       "\n",
       "Residual standard error: 0.4819 on 25 degrees of freedom\n",
       "Multiple R-squared:  0.4456,\tAdjusted R-squared:  0.4234 \n",
       "F-statistic: 20.09 on 1 and 25 DF,  p-value: 0.0001425\n"
      ]
     },
     "metadata": {},
     "output_type": "display_data"
    }
   ],
   "source": [
    "summary(model1)"
   ]
  },
  {
   "cell_type": "code",
   "execution_count": 11,
   "id": "cefe66b0-60a4-4adf-8640-c7d8e2d88c3f",
   "metadata": {
    "vscode": {
     "languageId": "r"
    }
   },
   "outputs": [
    {
     "data": {
      "text/html": [
       "<table class=\"dataframe\">\n",
       "<caption>A anova: 2 × 5</caption>\n",
       "<thead>\n",
       "\t<tr><th></th><th scope=col>Df</th><th scope=col>Sum Sq</th><th scope=col>Mean Sq</th><th scope=col>F value</th><th scope=col>Pr(&gt;F)</th></tr>\n",
       "\t<tr><th></th><th scope=col>&lt;int&gt;</th><th scope=col>&lt;dbl&gt;</th><th scope=col>&lt;dbl&gt;</th><th scope=col>&lt;dbl&gt;</th><th scope=col>&lt;dbl&gt;</th></tr>\n",
       "</thead>\n",
       "<tbody>\n",
       "\t<tr><th scope=row>AGST</th><td> 1</td><td>4.665461</td><td>4.6654615</td><td>20.09293</td><td>0.0001425042</td></tr>\n",
       "\t<tr><th scope=row>Residuals</th><td>25</td><td>5.804854</td><td>0.2321941</td><td>      NA</td><td>          NA</td></tr>\n",
       "</tbody>\n",
       "</table>\n"
      ],
      "text/latex": [
       "A anova: 2 × 5\n",
       "\\begin{tabular}{r|lllll}\n",
       "  & Df & Sum Sq & Mean Sq & F value & Pr(>F)\\\\\n",
       "  & <int> & <dbl> & <dbl> & <dbl> & <dbl>\\\\\n",
       "\\hline\n",
       "\tAGST &  1 & 4.665461 & 4.6654615 & 20.09293 & 0.0001425042\\\\\n",
       "\tResiduals & 25 & 5.804854 & 0.2321941 &       NA &           NA\\\\\n",
       "\\end{tabular}\n"
      ],
      "text/markdown": [
       "\n",
       "A anova: 2 × 5\n",
       "\n",
       "| <!--/--> | Df &lt;int&gt; | Sum Sq &lt;dbl&gt; | Mean Sq &lt;dbl&gt; | F value &lt;dbl&gt; | Pr(&gt;F) &lt;dbl&gt; |\n",
       "|---|---|---|---|---|---|\n",
       "| AGST |  1 | 4.665461 | 4.6654615 | 20.09293 | 0.0001425042 |\n",
       "| Residuals | 25 | 5.804854 | 0.2321941 |       NA |           NA |\n",
       "\n"
      ],
      "text/plain": [
       "          Df Sum Sq   Mean Sq   F value  Pr(>F)      \n",
       "AGST       1 4.665461 4.6654615 20.09293 0.0001425042\n",
       "Residuals 25 5.804854 0.2321941       NA           NA"
      ]
     },
     "metadata": {},
     "output_type": "display_data"
    }
   ],
   "source": [
    "anova(model1)"
   ]
  },
  {
   "cell_type": "markdown",
   "id": "1a54562a-c7cb-4e78-9d60-16e8c1aef1b7",
   "metadata": {},
   "source": [
    "## Hồi quy tuyến tính bội"
   ]
  },
  {
   "cell_type": "code",
   "execution_count": 12,
   "id": "42951360-4fda-4ff3-bfa8-58386c4d95f5",
   "metadata": {
    "vscode": {
     "languageId": "r"
    }
   },
   "outputs": [
    {
     "data": {
      "text/plain": [
       "\n",
       "Call:\n",
       "lm(formula = Price ~ AGST + HarvestRain + WinterRain + Age + \n",
       "    FrancePop, data = wine)\n",
       "\n",
       "Residuals:\n",
       "     Min       1Q   Median       3Q      Max \n",
       "-0.46541 -0.24133  0.00413  0.18974  0.52495 \n",
       "\n",
       "Coefficients:\n",
       "              Estimate Std. Error t value Pr(>|t|)    \n",
       "(Intercept) -2.343e+00  7.697e+00  -0.304  0.76384    \n",
       "AGST         6.144e-01  9.799e-02   6.270 3.22e-06 ***\n",
       "HarvestRain -3.837e-03  8.366e-04  -4.587  0.00016 ***\n",
       "WinterRain   1.153e-03  4.991e-04   2.311  0.03109 *  \n",
       "Age          1.377e-02  5.821e-02   0.237  0.81531    \n",
       "FrancePop   -2.213e-05  1.268e-04  -0.175  0.86313    \n",
       "---\n",
       "Signif. codes:  0 ‘***’ 0.001 ‘**’ 0.01 ‘*’ 0.05 ‘.’ 0.1 ‘ ’ 1\n",
       "\n",
       "Residual standard error: 0.293 on 21 degrees of freedom\n",
       "Multiple R-squared:  0.8278,\tAdjusted R-squared:  0.7868 \n",
       "F-statistic: 20.19 on 5 and 21 DF,  p-value: 2.232e-07\n"
      ]
     },
     "metadata": {},
     "output_type": "display_data"
    }
   ],
   "source": [
    "model3 = lm(Price ~ AGST + HarvestRain + WinterRain + Age + FrancePop, data = wine)\n",
    "summary(model3)"
   ]
  },
  {
   "cell_type": "code",
   "execution_count": 13,
   "id": "05f09880-dec9-4617-a5e4-c5792e2556d7",
   "metadata": {
    "vscode": {
     "languageId": "r"
    }
   },
   "outputs": [
    {
     "data": {
      "text/html": [
       "<style>\n",
       ".dl-inline {width: auto; margin:0; padding: 0}\n",
       ".dl-inline>dt, .dl-inline>dd {float: none; width: auto; display: inline-block}\n",
       ".dl-inline>dt::after {content: \":\\0020\"; padding-right: .5ex}\n",
       ".dl-inline>dt:not(:first-of-type) {padding-left: .5ex}\n",
       "</style><dl class=dl-inline><dt>(Intercept)</dt><dd>-2.34259844938618</dd><dt>AGST</dt><dd>0.614424153014313</dd><dt>HarvestRain</dt><dd>-0.00383731319195166</dd><dt>WinterRain</dt><dd>0.00115321906691491</dd><dt>Age</dt><dd>0.0137693457727919</dd><dt>FrancePop</dt><dd>-2.21339151591963e-05</dd></dl>\n"
      ],
      "text/latex": [
       "\\begin{description*}\n",
       "\\item[(Intercept)] -2.34259844938618\n",
       "\\item[AGST] 0.614424153014313\n",
       "\\item[HarvestRain] -0.00383731319195166\n",
       "\\item[WinterRain] 0.00115321906691491\n",
       "\\item[Age] 0.0137693457727919\n",
       "\\item[FrancePop] -2.21339151591963e-05\n",
       "\\end{description*}\n"
      ],
      "text/markdown": [
       "(Intercept)\n",
       ":   -2.34259844938618AGST\n",
       ":   0.614424153014313HarvestRain\n",
       ":   -0.00383731319195166WinterRain\n",
       ":   0.00115321906691491Age\n",
       ":   0.0137693457727919FrancePop\n",
       ":   -2.21339151591963e-05\n",
       "\n"
      ],
      "text/plain": [
       "  (Intercept)          AGST   HarvestRain    WinterRain           Age \n",
       "-2.342598e+00  6.144242e-01 -3.837313e-03  1.153219e-03  1.376935e-02 \n",
       "    FrancePop \n",
       "-2.213392e-05 "
      ]
     },
     "metadata": {},
     "output_type": "display_data"
    }
   ],
   "source": [
    "# Kiểm tra các hệ số thu được cho mô hình Price ~ AGST + HarvestRain + WinterRain + Age + FrancePop + Year\n",
    "coef(model3)"
   ]
  },
  {
   "cell_type": "code",
   "execution_count": 14,
   "id": "4690ccc6-e3d5-46a0-838a-aae9b693d35d",
   "metadata": {
    "vscode": {
     "languageId": "r"
    }
   },
   "outputs": [
    {
     "data": {
      "text/html": [
       "<table class=\"dataframe\">\n",
       "<caption>A matrix: 6 × 2 of type dbl</caption>\n",
       "<thead>\n",
       "\t<tr><th></th><th scope=col>0.5 %</th><th scope=col>99.5 %</th></tr>\n",
       "</thead>\n",
       "<tbody>\n",
       "\t<tr><th scope=row>(Intercept)</th><td>-2.413428e+01</td><td>19.4490823819</td></tr>\n",
       "\t<tr><th scope=row>AGST</th><td> 3.369668e-01</td><td> 0.8918815205</td></tr>\n",
       "\t<tr><th scope=row>HarvestRain</th><td>-6.206144e-03</td><td>-0.0014684820</td></tr>\n",
       "\t<tr><th scope=row>WinterRain</th><td>-2.597717e-04</td><td> 0.0025662098</td></tr>\n",
       "\t<tr><th scope=row>Age</th><td>-1.510551e-01</td><td> 0.1785938298</td></tr>\n",
       "\t<tr><th scope=row>FrancePop</th><td>-3.812265e-04</td><td> 0.0003369587</td></tr>\n",
       "</tbody>\n",
       "</table>\n"
      ],
      "text/latex": [
       "A matrix: 6 × 2 of type dbl\n",
       "\\begin{tabular}{r|ll}\n",
       "  & 0.5 \\% & 99.5 \\%\\\\\n",
       "\\hline\n",
       "\t(Intercept) & -2.413428e+01 & 19.4490823819\\\\\n",
       "\tAGST &  3.369668e-01 &  0.8918815205\\\\\n",
       "\tHarvestRain & -6.206144e-03 & -0.0014684820\\\\\n",
       "\tWinterRain & -2.597717e-04 &  0.0025662098\\\\\n",
       "\tAge & -1.510551e-01 &  0.1785938298\\\\\n",
       "\tFrancePop & -3.812265e-04 &  0.0003369587\\\\\n",
       "\\end{tabular}\n"
      ],
      "text/markdown": [
       "\n",
       "A matrix: 6 × 2 of type dbl\n",
       "\n",
       "| <!--/--> | 0.5 % | 99.5 % |\n",
       "|---|---|---|\n",
       "| (Intercept) | -2.413428e+01 | 19.4490823819 |\n",
       "| AGST |  3.369668e-01 |  0.8918815205 |\n",
       "| HarvestRain | -6.206144e-03 | -0.0014684820 |\n",
       "| WinterRain | -2.597717e-04 |  0.0025662098 |\n",
       "| Age | -1.510551e-01 |  0.1785938298 |\n",
       "| FrancePop | -3.812265e-04 |  0.0003369587 |\n",
       "\n"
      ],
      "text/plain": [
       "            0.5 %         99.5 %       \n",
       "(Intercept) -2.413428e+01 19.4490823819\n",
       "AGST         3.369668e-01  0.8918815205\n",
       "HarvestRain -6.206144e-03 -0.0014684820\n",
       "WinterRain  -2.597717e-04  0.0025662098\n",
       "Age         -1.510551e-01  0.1785938298\n",
       "FrancePop   -3.812265e-04  0.0003369587"
      ]
     },
     "metadata": {},
     "output_type": "display_data"
    }
   ],
   "source": [
    "# Tính khoảng tin cậy cho các hệ số\n",
    "confint(model3,level = 0.99)"
   ]
  },
  {
   "cell_type": "code",
   "execution_count": 15,
   "id": "69ce60f0-d7e8-4cf8-93bd-01d37b15399f",
   "metadata": {
    "vscode": {
     "languageId": "r"
    }
   },
   "outputs": [
    {
     "data": {
      "text/html": [
       "<style>\n",
       ".list-inline {list-style: none; margin:0; padding: 0}\n",
       ".list-inline>li {display: inline-block}\n",
       ".list-inline>li:not(:last-child)::after {content: \"\\00b7\"; padding: 0 .5ex}\n",
       "</style>\n",
       "<ol class=list-inline><li>'assign'</li><li>'call'</li><li>'coefficients'</li><li>'df.residual'</li><li>'effects'</li><li>'fitted.values'</li><li>'model'</li><li>'qr'</li><li>'rank'</li><li>'residuals'</li><li>'terms'</li><li>'xlevels'</li></ol>\n"
      ],
      "text/latex": [
       "\\begin{enumerate*}\n",
       "\\item 'assign'\n",
       "\\item 'call'\n",
       "\\item 'coefficients'\n",
       "\\item 'df.residual'\n",
       "\\item 'effects'\n",
       "\\item 'fitted.values'\n",
       "\\item 'model'\n",
       "\\item 'qr'\n",
       "\\item 'rank'\n",
       "\\item 'residuals'\n",
       "\\item 'terms'\n",
       "\\item 'xlevels'\n",
       "\\end{enumerate*}\n"
      ],
      "text/markdown": [
       "1. 'assign'\n",
       "2. 'call'\n",
       "3. 'coefficients'\n",
       "4. 'df.residual'\n",
       "5. 'effects'\n",
       "6. 'fitted.values'\n",
       "7. 'model'\n",
       "8. 'qr'\n",
       "9. 'rank'\n",
       "10. 'residuals'\n",
       "11. 'terms'\n",
       "12. 'xlevels'\n",
       "\n",
       "\n"
      ],
      "text/plain": [
       " [1] \"assign\"        \"call\"          \"coefficients\"  \"df.residual\"  \n",
       " [5] \"effects\"       \"fitted.values\" \"model\"         \"qr\"           \n",
       " [9] \"rank\"          \"residuals\"     \"terms\"         \"xlevels\"      "
      ]
     },
     "metadata": {},
     "output_type": "display_data"
    }
   ],
   "source": [
    "ls(model3)"
   ]
  },
  {
   "cell_type": "code",
   "execution_count": 16,
   "id": "3039d5c6-b850-4818-9577-df40eab49616",
   "metadata": {
    "vscode": {
     "languageId": "r"
    }
   },
   "outputs": [
    {
     "data": {
      "text/html": [
       "<style>\n",
       ".dl-inline {width: auto; margin:0; padding: 0}\n",
       ".dl-inline>dt, .dl-inline>dd {float: none; width: auto; display: inline-block}\n",
       ".dl-inline>dt::after {content: \":\\0020\"; padding-right: .5ex}\n",
       ".dl-inline>dt:not(:first-of-type) {padding-left: .5ex}\n",
       "</style><dl class=dl-inline><dt>1</dt><dd>-0.228305046389835</dd><dt>2</dt><dd>0.161453599619573</dd><dt>3</dt><dd>0.00413158227445396</dd><dt>4</dt><dd>-0.00644517050714477</dd><dt>5</dt><dd>-0.254350671208707</dd><dt>6</dt><dd>0.524946035786552</dd><dt>7</dt><dd>-0.278112625461768</dd><dt>8</dt><dd>0.115148010988742</dd><dt>9</dt><dd>-0.113534301333616</dd><dt>10</dt><dd>0.0969305048330072</dd><dt>11</dt><dd>-0.221446252742243</dd><dt>12</dt><dd>0.337512618106688</dd><dt>13</dt><dd>0.192222394694011</dd><dt>14</dt><dd>-0.261546354049832</dd><dt>15</dt><dd>-0.0274898272643868</dd><dt>16</dt><dd>-0.26054994625523</dd><dt>17</dt><dd>0.284849755087018</dd><dt>18</dt><dd>0.0237738517510025</dd><dt>19</dt><dd>0.348859657425094</dd><dt>20</dt><dd>-0.425744766069099</dd><dt>21</dt><dd>-0.269860201121957</dd><dt>22</dt><dd>0.300729861198526</dd><dt>23</dt><dd>0.187249312384404</dd><dt>24</dt><dd>-0.46541408415179</dd><dt>25</dt><dd>0.265946351642263</dd><dt>26</dt><dd>0.163435903370581</dd><dt>27</dt><dd>-0.194390192606306</dd></dl>\n"
      ],
      "text/latex": [
       "\\begin{description*}\n",
       "\\item[1] -0.228305046389835\n",
       "\\item[2] 0.161453599619573\n",
       "\\item[3] 0.00413158227445396\n",
       "\\item[4] -0.00644517050714477\n",
       "\\item[5] -0.254350671208707\n",
       "\\item[6] 0.524946035786552\n",
       "\\item[7] -0.278112625461768\n",
       "\\item[8] 0.115148010988742\n",
       "\\item[9] -0.113534301333616\n",
       "\\item[10] 0.0969305048330072\n",
       "\\item[11] -0.221446252742243\n",
       "\\item[12] 0.337512618106688\n",
       "\\item[13] 0.192222394694011\n",
       "\\item[14] -0.261546354049832\n",
       "\\item[15] -0.0274898272643868\n",
       "\\item[16] -0.26054994625523\n",
       "\\item[17] 0.284849755087018\n",
       "\\item[18] 0.0237738517510025\n",
       "\\item[19] 0.348859657425094\n",
       "\\item[20] -0.425744766069099\n",
       "\\item[21] -0.269860201121957\n",
       "\\item[22] 0.300729861198526\n",
       "\\item[23] 0.187249312384404\n",
       "\\item[24] -0.46541408415179\n",
       "\\item[25] 0.265946351642263\n",
       "\\item[26] 0.163435903370581\n",
       "\\item[27] -0.194390192606306\n",
       "\\end{description*}\n"
      ],
      "text/markdown": [
       "1\n",
       ":   -0.2283050463898352\n",
       ":   0.1614535996195733\n",
       ":   0.004131582274453964\n",
       ":   -0.006445170507144775\n",
       ":   -0.2543506712087076\n",
       ":   0.5249460357865527\n",
       ":   -0.2781126254617688\n",
       ":   0.1151480109887429\n",
       ":   -0.11353430133361610\n",
       ":   0.096930504833007211\n",
       ":   -0.22144625274224312\n",
       ":   0.33751261810668813\n",
       ":   0.19222239469401114\n",
       ":   -0.26154635404983215\n",
       ":   -0.027489827264386816\n",
       ":   -0.2605499462552317\n",
       ":   0.28484975508701818\n",
       ":   0.023773851751002519\n",
       ":   0.34885965742509420\n",
       ":   -0.42574476606909921\n",
       ":   -0.26986020112195722\n",
       ":   0.30072986119852623\n",
       ":   0.18724931238440424\n",
       ":   -0.4654140841517925\n",
       ":   0.26594635164226326\n",
       ":   0.16343590337058127\n",
       ":   -0.194390192606306\n",
       "\n"
      ],
      "text/plain": [
       "           1            2            3            4            5            6 \n",
       "-0.228305046  0.161453600  0.004131582 -0.006445171 -0.254350671  0.524946036 \n",
       "           7            8            9           10           11           12 \n",
       "-0.278112625  0.115148011 -0.113534301  0.096930505 -0.221446253  0.337512618 \n",
       "          13           14           15           16           17           18 \n",
       " 0.192222395 -0.261546354 -0.027489827 -0.260549946  0.284849755  0.023773852 \n",
       "          19           20           21           22           23           24 \n",
       " 0.348859657 -0.425744766 -0.269860201  0.300729861  0.187249312 -0.465414084 \n",
       "          25           26           27 \n",
       " 0.265946352  0.163435903 -0.194390193 "
      ]
     },
     "metadata": {},
     "output_type": "display_data"
    }
   ],
   "source": [
    "model3$residuals"
   ]
  },
  {
   "cell_type": "code",
   "execution_count": 17,
   "id": "9724fbff-0717-4585-a669-82800c88de80",
   "metadata": {
    "vscode": {
     "languageId": "r"
    }
   },
   "outputs": [
    {
     "data": {
      "text/html": [
       "1.80318215169642"
      ],
      "text/latex": [
       "1.80318215169642"
      ],
      "text/markdown": [
       "1.80318215169642"
      ],
      "text/plain": [
       "[1] 1.803182"
      ]
     },
     "metadata": {},
     "output_type": "display_data"
    }
   ],
   "source": [
    "SSE = sum(model3$residuals^2)\n",
    "SSE"
   ]
  },
  {
   "cell_type": "markdown",
   "id": "5d7a600b-c84a-47c0-9674-941265f35f9b",
   "metadata": {},
   "source": [
    "Sử dụng kiểm định ANOVA (KD Fisher) để kiểm định ý nghĩa mô hình cho model3,\n",
    "- H0: AGST = HarvestRain = WinterRain = Age = FrancePop = 0\n",
    "- H1: Tồn tại ít nhất 1 biến cho cho hệ số của nó khác 0 "
   ]
  },
  {
   "cell_type": "code",
   "execution_count": 18,
   "id": "f20e0be1-7fe8-4689-be71-c5dab8057c0b",
   "metadata": {
    "vscode": {
     "languageId": "r"
    }
   },
   "outputs": [
    {
     "data": {
      "text/html": [
       "<table class=\"dataframe\">\n",
       "<caption>A anova: 6 × 5</caption>\n",
       "<thead>\n",
       "\t<tr><th></th><th scope=col>Df</th><th scope=col>Sum Sq</th><th scope=col>Mean Sq</th><th scope=col>F value</th><th scope=col>Pr(&gt;F)</th></tr>\n",
       "\t<tr><th></th><th scope=col>&lt;int&gt;</th><th scope=col>&lt;dbl&gt;</th><th scope=col>&lt;dbl&gt;</th><th scope=col>&lt;dbl&gt;</th><th scope=col>&lt;dbl&gt;</th></tr>\n",
       "</thead>\n",
       "<tbody>\n",
       "\t<tr><th scope=row>AGST</th><td> 1</td><td>4.665461453</td><td>4.665461453</td><td>54.33432803</td><td>2.981673e-07</td></tr>\n",
       "\t<tr><th scope=row>HarvestRain</th><td> 1</td><td>2.506592873</td><td>2.506592873</td><td>29.19197613</td><td>2.329489e-05</td></tr>\n",
       "\t<tr><th scope=row>WinterRain</th><td> 1</td><td>0.583560040</td><td>0.583560040</td><td> 6.79618575</td><td>1.646343e-02</td></tr>\n",
       "\t<tr><th scope=row>Age</th><td> 1</td><td>0.908903355</td><td>0.908903355</td><td>10.58515938</td><td>3.800444e-03</td></tr>\n",
       "\t<tr><th scope=row>FrancePop</th><td> 1</td><td>0.002615254</td><td>0.002615254</td><td> 0.03045746</td><td>8.631279e-01</td></tr>\n",
       "\t<tr><th scope=row>Residuals</th><td>21</td><td>1.803182152</td><td>0.085865817</td><td>         NA</td><td>          NA</td></tr>\n",
       "</tbody>\n",
       "</table>\n"
      ],
      "text/latex": [
       "A anova: 6 × 5\n",
       "\\begin{tabular}{r|lllll}\n",
       "  & Df & Sum Sq & Mean Sq & F value & Pr(>F)\\\\\n",
       "  & <int> & <dbl> & <dbl> & <dbl> & <dbl>\\\\\n",
       "\\hline\n",
       "\tAGST &  1 & 4.665461453 & 4.665461453 & 54.33432803 & 2.981673e-07\\\\\n",
       "\tHarvestRain &  1 & 2.506592873 & 2.506592873 & 29.19197613 & 2.329489e-05\\\\\n",
       "\tWinterRain &  1 & 0.583560040 & 0.583560040 &  6.79618575 & 1.646343e-02\\\\\n",
       "\tAge &  1 & 0.908903355 & 0.908903355 & 10.58515938 & 3.800444e-03\\\\\n",
       "\tFrancePop &  1 & 0.002615254 & 0.002615254 &  0.03045746 & 8.631279e-01\\\\\n",
       "\tResiduals & 21 & 1.803182152 & 0.085865817 &          NA &           NA\\\\\n",
       "\\end{tabular}\n"
      ],
      "text/markdown": [
       "\n",
       "A anova: 6 × 5\n",
       "\n",
       "| <!--/--> | Df &lt;int&gt; | Sum Sq &lt;dbl&gt; | Mean Sq &lt;dbl&gt; | F value &lt;dbl&gt; | Pr(&gt;F) &lt;dbl&gt; |\n",
       "|---|---|---|---|---|---|\n",
       "| AGST |  1 | 4.665461453 | 4.665461453 | 54.33432803 | 2.981673e-07 |\n",
       "| HarvestRain |  1 | 2.506592873 | 2.506592873 | 29.19197613 | 2.329489e-05 |\n",
       "| WinterRain |  1 | 0.583560040 | 0.583560040 |  6.79618575 | 1.646343e-02 |\n",
       "| Age |  1 | 0.908903355 | 0.908903355 | 10.58515938 | 3.800444e-03 |\n",
       "| FrancePop |  1 | 0.002615254 | 0.002615254 |  0.03045746 | 8.631279e-01 |\n",
       "| Residuals | 21 | 1.803182152 | 0.085865817 |          NA |           NA |\n",
       "\n"
      ],
      "text/plain": [
       "            Df Sum Sq      Mean Sq     F value     Pr(>F)      \n",
       "AGST         1 4.665461453 4.665461453 54.33432803 2.981673e-07\n",
       "HarvestRain  1 2.506592873 2.506592873 29.19197613 2.329489e-05\n",
       "WinterRain   1 0.583560040 0.583560040  6.79618575 1.646343e-02\n",
       "Age          1 0.908903355 0.908903355 10.58515938 3.800444e-03\n",
       "FrancePop    1 0.002615254 0.002615254  0.03045746 8.631279e-01\n",
       "Residuals   21 1.803182152 0.085865817          NA           NA"
      ]
     },
     "metadata": {},
     "output_type": "display_data"
    }
   ],
   "source": [
    "anova(model3)"
   ]
  },
  {
   "cell_type": "markdown",
   "id": "58eeb174-5b26-438a-8590-dd49aa5db385",
   "metadata": {},
   "source": [
    "Ta thấy:\n",
    "-  Biến WinterRain có ý nghĩa đối với mô hình về mặt thống kê (với mức ý nghĩa *)\n",
    "-  Biến HarvestRain có ý nghĩa đối với mô hình về mặt thống kê (với mức ý nghĩa ***)\n",
    "-  Biến AGST có ý nghĩa đối với mô hình về mặt thống kê (với mức ý nghĩa ***)\n",
    "-  Biến Age không có ý nghĩa (có thể loại bỏ)\n",
    "-  Biến FrancePop không có ý nghĩa (có thể loại bỏ)\n",
    "-  Biến Year không có ý nghĩa (có thể loại bỏ)\n",
    "-  Mô hình có thể giải thích được 82.78% sự thay đổi của biến Price\n",
    "-  Mô hình tương đối tốt (p value = 2.232e-07)"
   ]
  },
  {
   "cell_type": "code",
   "execution_count": 19,
   "id": "dc47ab0d-dc1e-43e4-913b-654c3f416ee4",
   "metadata": {
    "vscode": {
     "languageId": "r"
    }
   },
   "outputs": [
    {
     "data": {
      "text/plain": [
       "\n",
       "Call:\n",
       "lm(formula = Price ~ AGST + HarvestRain + WinterRain, data = wine)\n",
       "\n",
       "Residuals:\n",
       "     Min       1Q   Median       3Q      Max \n",
       "-0.62816 -0.17923  0.02274  0.21990  0.62859 \n",
       "\n",
       "Coefficients:\n",
       "              Estimate Std. Error t value Pr(>|t|)    \n",
       "(Intercept) -4.9506001  1.9694011  -2.514  0.01940 *  \n",
       "AGST         0.7123192  0.1087676   6.549 1.11e-06 ***\n",
       "HarvestRain -0.0036242  0.0009646  -3.757  0.00103 ** \n",
       "WinterRain   0.0012820  0.0005765   2.224  0.03628 *  \n",
       "---\n",
       "Signif. codes:  0 ‘***’ 0.001 ‘**’ 0.01 ‘*’ 0.05 ‘.’ 0.1 ‘ ’ 1\n",
       "\n",
       "Residual standard error: 0.3436 on 23 degrees of freedom\n",
       "Multiple R-squared:  0.7407,\tAdjusted R-squared:  0.7069 \n",
       "F-statistic:  21.9 on 3 and 23 DF,  p-value: 6.246e-07\n"
      ]
     },
     "metadata": {},
     "output_type": "display_data"
    }
   ],
   "source": [
    "model4 = lm(Price ~ AGST + HarvestRain + WinterRain, data = wine) # remove Age and FrancePop\n",
    "summary(model4)"
   ]
  },
  {
   "cell_type": "markdown",
   "id": "a7aef96b-91c3-4f85-8f02-c313646fde98",
   "metadata": {},
   "source": [
    "Ta nhận thấy\n",
    "-  Mô hình có thể giải thích được 74.07% sự thay đổi của biến Price\n",
    "-  Mô hình tương đối tốt (p value = 6.246e-07)"
   ]
  },
  {
   "cell_type": "code",
   "execution_count": 20,
   "id": "580b26c6-3c29-4825-805b-ad704fe69910",
   "metadata": {
    "vscode": {
     "languageId": "r"
    }
   },
   "outputs": [
    {
     "data": {
      "text/html": [
       "<style>\n",
       ".dl-inline {width: auto; margin:0; padding: 0}\n",
       ".dl-inline>dt, .dl-inline>dd {float: none; width: auto; display: inline-block}\n",
       ".dl-inline>dt::after {content: \":\\0020\"; padding-right: .5ex}\n",
       ".dl-inline>dt:not(:first-of-type) {padding-left: .5ex}\n",
       "</style><dl class=dl-inline><dt>(Intercept)</dt><dd>-4.95060014754495</dd><dt>AGST</dt><dd>0.712319187206112</dd><dt>HarvestRain</dt><dd>-0.00362422646268823</dd><dt>WinterRain</dt><dd>0.0012819536027824</dd></dl>\n"
      ],
      "text/latex": [
       "\\begin{description*}\n",
       "\\item[(Intercept)] -4.95060014754495\n",
       "\\item[AGST] 0.712319187206112\n",
       "\\item[HarvestRain] -0.00362422646268823\n",
       "\\item[WinterRain] 0.0012819536027824\n",
       "\\end{description*}\n"
      ],
      "text/markdown": [
       "(Intercept)\n",
       ":   -4.95060014754495AGST\n",
       ":   0.712319187206112HarvestRain\n",
       ":   -0.00362422646268823WinterRain\n",
       ":   0.0012819536027824\n",
       "\n"
      ],
      "text/plain": [
       " (Intercept)         AGST  HarvestRain   WinterRain \n",
       "-4.950600148  0.712319187 -0.003624226  0.001281954 "
      ]
     },
     "metadata": {},
     "output_type": "display_data"
    }
   ],
   "source": [
    "# Kiểm tra các hệ số thu được cho mô hình Price ~ AGST + HarvestRain + WinterRain\n",
    "coef(model4)"
   ]
  },
  {
   "cell_type": "code",
   "execution_count": 21,
   "id": "875527fb-27db-4264-b225-5e21144c0560",
   "metadata": {
    "vscode": {
     "languageId": "r"
    }
   },
   "outputs": [
    {
     "data": {
      "text/html": [
       "<table class=\"dataframe\">\n",
       "<caption>A matrix: 4 × 2 of type dbl</caption>\n",
       "<thead>\n",
       "\t<tr><th></th><th scope=col>0.5 %</th><th scope=col>99.5 %</th></tr>\n",
       "</thead>\n",
       "<tbody>\n",
       "\t<tr><th scope=row>(Intercept)</th><td>-1.047937e+01</td><td> 0.5781698973</td></tr>\n",
       "\t<tr><th scope=row>AGST</th><td> 4.069720e-01</td><td> 1.0176663823</td></tr>\n",
       "\t<tr><th scope=row>HarvestRain</th><td>-6.332166e-03</td><td>-0.0009162869</td></tr>\n",
       "\t<tr><th scope=row>WinterRain</th><td>-3.365771e-04</td><td> 0.0029004843</td></tr>\n",
       "</tbody>\n",
       "</table>\n"
      ],
      "text/latex": [
       "A matrix: 4 × 2 of type dbl\n",
       "\\begin{tabular}{r|ll}\n",
       "  & 0.5 \\% & 99.5 \\%\\\\\n",
       "\\hline\n",
       "\t(Intercept) & -1.047937e+01 &  0.5781698973\\\\\n",
       "\tAGST &  4.069720e-01 &  1.0176663823\\\\\n",
       "\tHarvestRain & -6.332166e-03 & -0.0009162869\\\\\n",
       "\tWinterRain & -3.365771e-04 &  0.0029004843\\\\\n",
       "\\end{tabular}\n"
      ],
      "text/markdown": [
       "\n",
       "A matrix: 4 × 2 of type dbl\n",
       "\n",
       "| <!--/--> | 0.5 % | 99.5 % |\n",
       "|---|---|---|\n",
       "| (Intercept) | -1.047937e+01 |  0.5781698973 |\n",
       "| AGST |  4.069720e-01 |  1.0176663823 |\n",
       "| HarvestRain | -6.332166e-03 | -0.0009162869 |\n",
       "| WinterRain | -3.365771e-04 |  0.0029004843 |\n",
       "\n"
      ],
      "text/plain": [
       "            0.5 %         99.5 %       \n",
       "(Intercept) -1.047937e+01  0.5781698973\n",
       "AGST         4.069720e-01  1.0176663823\n",
       "HarvestRain -6.332166e-03 -0.0009162869\n",
       "WinterRain  -3.365771e-04  0.0029004843"
      ]
     },
     "metadata": {},
     "output_type": "display_data"
    }
   ],
   "source": [
    "# Tính khoảng tin cậy cho các hệ số\n",
    "confint(model4,level = 0.99)"
   ]
  },
  {
   "cell_type": "code",
   "execution_count": 22,
   "id": "3ee1f438-640e-48f1-bb29-946db7aa6505",
   "metadata": {
    "vscode": {
     "languageId": "r"
    }
   },
   "outputs": [
    {
     "data": {
      "text/html": [
       "<style>\n",
       ".list-inline {list-style: none; margin:0; padding: 0}\n",
       ".list-inline>li {display: inline-block}\n",
       ".list-inline>li:not(:last-child)::after {content: \"\\00b7\"; padding: 0 .5ex}\n",
       "</style>\n",
       "<ol class=list-inline><li>'assign'</li><li>'call'</li><li>'coefficients'</li><li>'df.residual'</li><li>'effects'</li><li>'fitted.values'</li><li>'model'</li><li>'qr'</li><li>'rank'</li><li>'residuals'</li><li>'terms'</li><li>'xlevels'</li></ol>\n"
      ],
      "text/latex": [
       "\\begin{enumerate*}\n",
       "\\item 'assign'\n",
       "\\item 'call'\n",
       "\\item 'coefficients'\n",
       "\\item 'df.residual'\n",
       "\\item 'effects'\n",
       "\\item 'fitted.values'\n",
       "\\item 'model'\n",
       "\\item 'qr'\n",
       "\\item 'rank'\n",
       "\\item 'residuals'\n",
       "\\item 'terms'\n",
       "\\item 'xlevels'\n",
       "\\end{enumerate*}\n"
      ],
      "text/markdown": [
       "1. 'assign'\n",
       "2. 'call'\n",
       "3. 'coefficients'\n",
       "4. 'df.residual'\n",
       "5. 'effects'\n",
       "6. 'fitted.values'\n",
       "7. 'model'\n",
       "8. 'qr'\n",
       "9. 'rank'\n",
       "10. 'residuals'\n",
       "11. 'terms'\n",
       "12. 'xlevels'\n",
       "\n",
       "\n"
      ],
      "text/plain": [
       " [1] \"assign\"        \"call\"          \"coefficients\"  \"df.residual\"  \n",
       " [5] \"effects\"       \"fitted.values\" \"model\"         \"qr\"           \n",
       " [9] \"rank\"          \"residuals\"     \"terms\"         \"xlevels\"      "
      ]
     },
     "metadata": {},
     "output_type": "display_data"
    }
   ],
   "source": [
    "ls(model4)"
   ]
  },
  {
   "cell_type": "code",
   "execution_count": 23,
   "id": "9e679555-9170-4a0c-a8f4-93dc18fd9296",
   "metadata": {
    "vscode": {
     "languageId": "r"
    }
   },
   "outputs": [
    {
     "data": {
      "text/html": [
       "<style>\n",
       ".dl-inline {width: auto; margin:0; padding: 0}\n",
       ".dl-inline>dt, .dl-inline>dd {float: none; width: auto; display: inline-block}\n",
       ".dl-inline>dt::after {content: \":\\0020\"; padding-right: .5ex}\n",
       ".dl-inline>dt:not(:first-of-type) {padding-left: .5ex}\n",
       "</style><dl class=dl-inline><dt>1</dt><dd>0.0637503882547588</dd><dt>2</dt><dd>0.475839623364113</dd><dt>3</dt><dd>0.247734818512828</dd><dt>4</dt><dd>0.303285402319675</dd><dt>5</dt><dd>-0.0344969013582934</dd><dt>6</dt><dd>0.62859295303756</dd><dt>7</dt><dd>-0.151635177805021</dd><dt>8</dt><dd>0.171157095218001</dd><dt>9</dt><dd>0.0227355110057713</dd><dt>10</dt><dd>0.250320489207619</dd><dt>11</dt><dd>-0.206821170087285</dd><dt>12</dt><dd>0.452337290167534</dd><dt>13</dt><dd>0.179676804822532</dd><dt>14</dt><dd>-0.260547063917458</dd><dt>15</dt><dd>-0.0691882557863721</dd><dt>16</dt><dd>-0.345194465420163</dd><dt>17</dt><dd>0.192070964385437</dd><dt>18</dt><dd>-0.0996850398957964</dd><dt>19</dt><dd>0.368108719892979</dd><dt>20</dt><dd>-0.605872424481139</dd><dt>21</dt><dd>-0.435086302777146</dd><dt>22</dt><dd>0.0552551887294992</dd><dt>23</dt><dd>-0.141406176321983</dd><dt>24</dt><dd>-0.628159648074537</dd><dt>25</dt><dd>0.0767662099361583</dd><dt>26</dt><dd>-0.088155561007124</dd><dt>27</dt><dd>-0.421383271922148</dd></dl>\n"
      ],
      "text/latex": [
       "\\begin{description*}\n",
       "\\item[1] 0.0637503882547588\n",
       "\\item[2] 0.475839623364113\n",
       "\\item[3] 0.247734818512828\n",
       "\\item[4] 0.303285402319675\n",
       "\\item[5] -0.0344969013582934\n",
       "\\item[6] 0.62859295303756\n",
       "\\item[7] -0.151635177805021\n",
       "\\item[8] 0.171157095218001\n",
       "\\item[9] 0.0227355110057713\n",
       "\\item[10] 0.250320489207619\n",
       "\\item[11] -0.206821170087285\n",
       "\\item[12] 0.452337290167534\n",
       "\\item[13] 0.179676804822532\n",
       "\\item[14] -0.260547063917458\n",
       "\\item[15] -0.0691882557863721\n",
       "\\item[16] -0.345194465420163\n",
       "\\item[17] 0.192070964385437\n",
       "\\item[18] -0.0996850398957964\n",
       "\\item[19] 0.368108719892979\n",
       "\\item[20] -0.605872424481139\n",
       "\\item[21] -0.435086302777146\n",
       "\\item[22] 0.0552551887294992\n",
       "\\item[23] -0.141406176321983\n",
       "\\item[24] -0.628159648074537\n",
       "\\item[25] 0.0767662099361583\n",
       "\\item[26] -0.088155561007124\n",
       "\\item[27] -0.421383271922148\n",
       "\\end{description*}\n"
      ],
      "text/markdown": [
       "1\n",
       ":   0.06375038825475882\n",
       ":   0.4758396233641133\n",
       ":   0.2477348185128284\n",
       ":   0.3032854023196755\n",
       ":   -0.03449690135829346\n",
       ":   0.628592953037567\n",
       ":   -0.1516351778050218\n",
       ":   0.1711570952180019\n",
       ":   0.022735511005771310\n",
       ":   0.25032048920761911\n",
       ":   -0.20682117008728512\n",
       ":   0.45233729016753413\n",
       ":   0.17967680482253214\n",
       ":   -0.26054706391745815\n",
       ":   -0.069188255786372116\n",
       ":   -0.34519446542016317\n",
       ":   0.19207096438543718\n",
       ":   -0.099685039895796419\n",
       ":   0.36810871989297920\n",
       ":   -0.60587242448113921\n",
       ":   -0.43508630277714622\n",
       ":   0.055255188729499223\n",
       ":   -0.14140617632198324\n",
       ":   -0.62815964807453725\n",
       ":   0.076766209936158326\n",
       ":   -0.08815556100712427\n",
       ":   -0.421383271922148\n",
       "\n"
      ],
      "text/plain": [
       "          1           2           3           4           5           6 \n",
       " 0.06375039  0.47583962  0.24773482  0.30328540 -0.03449690  0.62859295 \n",
       "          7           8           9          10          11          12 \n",
       "-0.15163518  0.17115710  0.02273551  0.25032049 -0.20682117  0.45233729 \n",
       "         13          14          15          16          17          18 \n",
       " 0.17967680 -0.26054706 -0.06918826 -0.34519447  0.19207096 -0.09968504 \n",
       "         19          20          21          22          23          24 \n",
       " 0.36810872 -0.60587242 -0.43508630  0.05525519 -0.14140618 -0.62815965 \n",
       "         25          26          27 \n",
       " 0.07676621 -0.08815556 -0.42138327 "
      ]
     },
     "metadata": {},
     "output_type": "display_data"
    }
   ],
   "source": [
    "model4$residuals"
   ]
  },
  {
   "cell_type": "code",
   "execution_count": 24,
   "id": "0b38c28a-bbaf-4746-bc9b-c3eddd6719d9",
   "metadata": {
    "vscode": {
     "languageId": "r"
    }
   },
   "outputs": [
    {
     "data": {
      "text/html": [
       "2.71470076122997"
      ],
      "text/latex": [
       "2.71470076122997"
      ],
      "text/markdown": [
       "2.71470076122997"
      ],
      "text/plain": [
       "[1] 2.714701"
      ]
     },
     "metadata": {},
     "output_type": "display_data"
    }
   ],
   "source": [
    "SSE = sum(model4$residuals^2)\n",
    "SSE"
   ]
  },
  {
   "cell_type": "markdown",
   "id": "1063a768-58f8-4020-b40a-92e6e689ce9b",
   "metadata": {},
   "source": [
    "## Lựa chọn mô hình"
   ]
  },
  {
   "cell_type": "code",
   "execution_count": 25,
   "id": "d683caa6-8174-41e9-bdd5-804a4c023230",
   "metadata": {
    "vscode": {
     "languageId": "r"
    }
   },
   "outputs": [
    {
     "data": {
      "text/html": [
       "<table class=\"dataframe\">\n",
       "<caption>A anova: 2 × 6</caption>\n",
       "<thead>\n",
       "\t<tr><th></th><th scope=col>Res.Df</th><th scope=col>RSS</th><th scope=col>Df</th><th scope=col>Sum of Sq</th><th scope=col>F</th><th scope=col>Pr(&gt;F)</th></tr>\n",
       "\t<tr><th></th><th scope=col>&lt;dbl&gt;</th><th scope=col>&lt;dbl&gt;</th><th scope=col>&lt;dbl&gt;</th><th scope=col>&lt;dbl&gt;</th><th scope=col>&lt;dbl&gt;</th><th scope=col>&lt;dbl&gt;</th></tr>\n",
       "</thead>\n",
       "<tbody>\n",
       "\t<tr><th scope=row>1</th><td>25</td><td>5.804854</td><td>NA</td><td>      NA</td><td>      NA</td><td>          NA</td></tr>\n",
       "\t<tr><th scope=row>2</th><td>21</td><td>1.803182</td><td> 4</td><td>4.001672</td><td>11.65094</td><td>3.841028e-05</td></tr>\n",
       "</tbody>\n",
       "</table>\n"
      ],
      "text/latex": [
       "A anova: 2 × 6\n",
       "\\begin{tabular}{r|llllll}\n",
       "  & Res.Df & RSS & Df & Sum of Sq & F & Pr(>F)\\\\\n",
       "  & <dbl> & <dbl> & <dbl> & <dbl> & <dbl> & <dbl>\\\\\n",
       "\\hline\n",
       "\t1 & 25 & 5.804854 & NA &       NA &       NA &           NA\\\\\n",
       "\t2 & 21 & 1.803182 &  4 & 4.001672 & 11.65094 & 3.841028e-05\\\\\n",
       "\\end{tabular}\n"
      ],
      "text/markdown": [
       "\n",
       "A anova: 2 × 6\n",
       "\n",
       "| <!--/--> | Res.Df &lt;dbl&gt; | RSS &lt;dbl&gt; | Df &lt;dbl&gt; | Sum of Sq &lt;dbl&gt; | F &lt;dbl&gt; | Pr(&gt;F) &lt;dbl&gt; |\n",
       "|---|---|---|---|---|---|---|\n",
       "| 1 | 25 | 5.804854 | NA |       NA |       NA |           NA |\n",
       "| 2 | 21 | 1.803182 |  4 | 4.001672 | 11.65094 | 3.841028e-05 |\n",
       "\n"
      ],
      "text/plain": [
       "  Res.Df RSS      Df Sum of Sq F        Pr(>F)      \n",
       "1 25     5.804854 NA       NA        NA           NA\n",
       "2 21     1.803182  4 4.001672  11.65094 3.841028e-05"
      ]
     },
     "metadata": {},
     "output_type": "display_data"
    }
   ],
   "source": [
    "anova_result <- anova(model1, model3)\n",
    "anova_result"
   ]
  },
  {
   "cell_type": "code",
   "execution_count": 26,
   "id": "315398d4-b0f9-4a01-8c6f-9362f35374f2",
   "metadata": {
    "vscode": {
     "languageId": "r"
    }
   },
   "outputs": [
    {
     "name": "stdout",
     "output_type": "stream",
     "text": [
      "Model {Price ~ AGST} is not significantly better than Model {Price ~ AGST + HarvestRain + WinterRain + Age + FrancePop}.\n"
     ]
    }
   ],
   "source": [
    "# Mức ý nghĩa alpha = 0.05\n",
    "if (anova_result$`Pr(>F)`[2] > 0.05) {\n",
    "  cat(\"Model {Price ~ AGST} is significantly better than Model {Price ~ AGST + HarvestRain + WinterRain + Age + FrancePop}.\\n\")\n",
    "} else {\n",
    "  cat(\"Model {Price ~ AGST} is not significantly better than Model {Price ~ AGST + HarvestRain + WinterRain + Age + FrancePop}.\\n\")\n",
    "}"
   ]
  },
  {
   "cell_type": "markdown",
   "id": "c2c27596-6934-43eb-9b2e-925b2e040c0e",
   "metadata": {},
   "source": [
    "Ta cần xem xét model3 và model4 thì model nào tốt hơn.\n",
    "- H0: Mô hình rút gọn (model4)\n",
    "- H1: Mô hình đầy đủ (model3)"
   ]
  },
  {
   "cell_type": "code",
   "execution_count": 27,
   "id": "b4c00ad2-58ba-4a6d-a66f-4eb48c11dd3c",
   "metadata": {
    "vscode": {
     "languageId": "r"
    }
   },
   "outputs": [
    {
     "data": {
      "text/html": [
       "<table class=\"dataframe\">\n",
       "<caption>A anova: 2 × 6</caption>\n",
       "<thead>\n",
       "\t<tr><th></th><th scope=col>Res.Df</th><th scope=col>RSS</th><th scope=col>Df</th><th scope=col>Sum of Sq</th><th scope=col>F</th><th scope=col>Pr(&gt;F)</th></tr>\n",
       "\t<tr><th></th><th scope=col>&lt;dbl&gt;</th><th scope=col>&lt;dbl&gt;</th><th scope=col>&lt;dbl&gt;</th><th scope=col>&lt;dbl&gt;</th><th scope=col>&lt;dbl&gt;</th><th scope=col>&lt;dbl&gt;</th></tr>\n",
       "</thead>\n",
       "<tbody>\n",
       "\t<tr><th scope=row>1</th><td>23</td><td>2.714701</td><td>NA</td><td>       NA</td><td>      NA</td><td>        NA</td></tr>\n",
       "\t<tr><th scope=row>2</th><td>21</td><td>1.803182</td><td> 2</td><td>0.9115186</td><td>5.307808</td><td>0.01362496</td></tr>\n",
       "</tbody>\n",
       "</table>\n"
      ],
      "text/latex": [
       "A anova: 2 × 6\n",
       "\\begin{tabular}{r|llllll}\n",
       "  & Res.Df & RSS & Df & Sum of Sq & F & Pr(>F)\\\\\n",
       "  & <dbl> & <dbl> & <dbl> & <dbl> & <dbl> & <dbl>\\\\\n",
       "\\hline\n",
       "\t1 & 23 & 2.714701 & NA &        NA &       NA &         NA\\\\\n",
       "\t2 & 21 & 1.803182 &  2 & 0.9115186 & 5.307808 & 0.01362496\\\\\n",
       "\\end{tabular}\n"
      ],
      "text/markdown": [
       "\n",
       "A anova: 2 × 6\n",
       "\n",
       "| <!--/--> | Res.Df &lt;dbl&gt; | RSS &lt;dbl&gt; | Df &lt;dbl&gt; | Sum of Sq &lt;dbl&gt; | F &lt;dbl&gt; | Pr(&gt;F) &lt;dbl&gt; |\n",
       "|---|---|---|---|---|---|---|\n",
       "| 1 | 23 | 2.714701 | NA |        NA |       NA |         NA |\n",
       "| 2 | 21 | 1.803182 |  2 | 0.9115186 | 5.307808 | 0.01362496 |\n",
       "\n"
      ],
      "text/plain": [
       "  Res.Df RSS      Df Sum of Sq F        Pr(>F)    \n",
       "1 23     2.714701 NA        NA       NA         NA\n",
       "2 21     1.803182  2 0.9115186 5.307808 0.01362496"
      ]
     },
     "metadata": {},
     "output_type": "display_data"
    }
   ],
   "source": [
    "anova_result <- anova(model4, model3)\n",
    "anova_result"
   ]
  },
  {
   "cell_type": "code",
   "execution_count": 28,
   "id": "896e5b44-ea41-4dc6-8935-f1ed396dee52",
   "metadata": {
    "vscode": {
     "languageId": "r"
    }
   },
   "outputs": [
    {
     "name": "stdout",
     "output_type": "stream",
     "text": [
      "Model {Price ~ AGST + HarvestRain + WinterRain} is significantly better than Model {Price ~ AGST + HarvestRain + WinterRain + Age + FrancePop}.\n"
     ]
    }
   ],
   "source": [
    "# Mức ý nghĩa alpha = 0.05\n",
    "if (anova_result$`Pr(>F)`[2] < 0.05) {\n",
    "  cat(\"Model {Price ~ AGST + HarvestRain + WinterRain} is significantly better than Model {Price ~ AGST + HarvestRain + WinterRain + Age + FrancePop}.\\n\")\n",
    "} else {\n",
    "  cat(\"Model {Price ~ AGST + HarvestRain + WinterRain} is not significantly better than Model {Price ~ AGST + HarvestRain + WinterRain + Age + FrancePop}.\\n\")\n",
    "}"
   ]
  },
  {
   "cell_type": "code",
   "execution_count": 41,
   "id": "1b20366b-7cb2-4ed3-851d-54808ce55bcf",
   "metadata": {
    "vscode": {
     "languageId": "r"
    }
   },
   "outputs": [
    {
     "data": {
      "text/html": [
       "<table class=\"dataframe\">\n",
       "<caption>A matrix: 27 × 3 of type dbl</caption>\n",
       "<thead>\n",
       "\t<tr><th></th><th scope=col>fit</th><th scope=col>lwr</th><th scope=col>upr</th></tr>\n",
       "</thead>\n",
       "<tbody>\n",
       "\t<tr><th scope=row>1</th><td>7.723305</td><td>7.376564</td><td>8.070047</td></tr>\n",
       "\t<tr><th scope=row>2</th><td>7.877846</td><td>7.510676</td><td>8.245017</td></tr>\n",
       "\t<tr><th scope=row>3</th><td>7.681668</td><td>7.315674</td><td>8.047663</td></tr>\n",
       "\t<tr><th scope=row>4</th><td>6.990945</td><td>6.492280</td><td>7.489610</td></tr>\n",
       "\t<tr><th scope=row>5</th><td>7.031551</td><td>6.718563</td><td>7.344538</td></tr>\n",
       "\t<tr><th scope=row>6</th><td>7.550754</td><td>7.189570</td><td>7.911938</td></tr>\n",
       "\t<tr><th scope=row>7</th><td>6.796913</td><td>6.283987</td><td>7.309838</td></tr>\n",
       "\t<tr><th scope=row>8</th><td>8.378552</td><td>7.905203</td><td>8.851901</td></tr>\n",
       "\t<tr><th scope=row>9</th><td>7.501534</td><td>7.181512</td><td>7.821557</td></tr>\n",
       "\t<tr><th scope=row>10</th><td>6.615769</td><td>6.295544</td><td>6.935995</td></tr>\n",
       "\t<tr><th scope=row>11</th><td>7.530846</td><td>7.111345</td><td>7.950347</td></tr>\n",
       "\t<tr><th scope=row>12</th><td>5.914287</td><td>5.472491</td><td>6.356084</td></tr>\n",
       "\t<tr><th scope=row>13</th><td>7.552078</td><td>7.128743</td><td>7.975413</td></tr>\n",
       "\t<tr><th scope=row>14</th><td>7.101346</td><td>6.812076</td><td>7.390617</td></tr>\n",
       "\t<tr><th scope=row>15</th><td>6.270990</td><td>5.883196</td><td>6.658784</td></tr>\n",
       "\t<tr><th scope=row>16</th><td>6.606450</td><td>6.306797</td><td>6.906103</td></tr>\n",
       "\t<tr><th scope=row>17</th><td>7.303450</td><td>7.027737</td><td>7.579164</td></tr>\n",
       "\t<tr><th scope=row>18</th><td>7.169626</td><td>6.888308</td><td>7.450945</td></tr>\n",
       "\t<tr><th scope=row>19</th><td>5.856040</td><td>5.385019</td><td>6.327062</td></tr>\n",
       "\t<tr><th scope=row>20</th><td>7.062445</td><td>6.650390</td><td>7.474500</td></tr>\n",
       "\t<tr><th scope=row>21</th><td>6.563960</td><td>6.311277</td><td>6.816643</td></tr>\n",
       "\t<tr><th scope=row>22</th><td>6.991270</td><td>6.691563</td><td>7.290978</td></tr>\n",
       "\t<tr><th scope=row>23</th><td>6.933851</td><td>6.420114</td><td>7.447587</td></tr>\n",
       "\t<tr><th scope=row>24</th><td>6.724114</td><td>6.334271</td><td>7.113957</td></tr>\n",
       "\t<tr><th scope=row>25</th><td>6.920054</td><td>6.518362</td><td>7.321746</td></tr>\n",
       "\t<tr><th scope=row>26</th><td>6.790664</td><td>6.378453</td><td>7.202875</td></tr>\n",
       "\t<tr><th scope=row>27</th><td>6.692290</td><td>6.192259</td><td>7.192321</td></tr>\n",
       "</tbody>\n",
       "</table>\n"
      ],
      "text/latex": [
       "A matrix: 27 × 3 of type dbl\n",
       "\\begin{tabular}{r|lll}\n",
       "  & fit & lwr & upr\\\\\n",
       "\\hline\n",
       "\t1 & 7.723305 & 7.376564 & 8.070047\\\\\n",
       "\t2 & 7.877846 & 7.510676 & 8.245017\\\\\n",
       "\t3 & 7.681668 & 7.315674 & 8.047663\\\\\n",
       "\t4 & 6.990945 & 6.492280 & 7.489610\\\\\n",
       "\t5 & 7.031551 & 6.718563 & 7.344538\\\\\n",
       "\t6 & 7.550754 & 7.189570 & 7.911938\\\\\n",
       "\t7 & 6.796913 & 6.283987 & 7.309838\\\\\n",
       "\t8 & 8.378552 & 7.905203 & 8.851901\\\\\n",
       "\t9 & 7.501534 & 7.181512 & 7.821557\\\\\n",
       "\t10 & 6.615769 & 6.295544 & 6.935995\\\\\n",
       "\t11 & 7.530846 & 7.111345 & 7.950347\\\\\n",
       "\t12 & 5.914287 & 5.472491 & 6.356084\\\\\n",
       "\t13 & 7.552078 & 7.128743 & 7.975413\\\\\n",
       "\t14 & 7.101346 & 6.812076 & 7.390617\\\\\n",
       "\t15 & 6.270990 & 5.883196 & 6.658784\\\\\n",
       "\t16 & 6.606450 & 6.306797 & 6.906103\\\\\n",
       "\t17 & 7.303450 & 7.027737 & 7.579164\\\\\n",
       "\t18 & 7.169626 & 6.888308 & 7.450945\\\\\n",
       "\t19 & 5.856040 & 5.385019 & 6.327062\\\\\n",
       "\t20 & 7.062445 & 6.650390 & 7.474500\\\\\n",
       "\t21 & 6.563960 & 6.311277 & 6.816643\\\\\n",
       "\t22 & 6.991270 & 6.691563 & 7.290978\\\\\n",
       "\t23 & 6.933851 & 6.420114 & 7.447587\\\\\n",
       "\t24 & 6.724114 & 6.334271 & 7.113957\\\\\n",
       "\t25 & 6.920054 & 6.518362 & 7.321746\\\\\n",
       "\t26 & 6.790664 & 6.378453 & 7.202875\\\\\n",
       "\t27 & 6.692290 & 6.192259 & 7.192321\\\\\n",
       "\\end{tabular}\n"
      ],
      "text/markdown": [
       "\n",
       "A matrix: 27 × 3 of type dbl\n",
       "\n",
       "| <!--/--> | fit | lwr | upr |\n",
       "|---|---|---|---|\n",
       "| 1 | 7.723305 | 7.376564 | 8.070047 |\n",
       "| 2 | 7.877846 | 7.510676 | 8.245017 |\n",
       "| 3 | 7.681668 | 7.315674 | 8.047663 |\n",
       "| 4 | 6.990945 | 6.492280 | 7.489610 |\n",
       "| 5 | 7.031551 | 6.718563 | 7.344538 |\n",
       "| 6 | 7.550754 | 7.189570 | 7.911938 |\n",
       "| 7 | 6.796913 | 6.283987 | 7.309838 |\n",
       "| 8 | 8.378552 | 7.905203 | 8.851901 |\n",
       "| 9 | 7.501534 | 7.181512 | 7.821557 |\n",
       "| 10 | 6.615769 | 6.295544 | 6.935995 |\n",
       "| 11 | 7.530846 | 7.111345 | 7.950347 |\n",
       "| 12 | 5.914287 | 5.472491 | 6.356084 |\n",
       "| 13 | 7.552078 | 7.128743 | 7.975413 |\n",
       "| 14 | 7.101346 | 6.812076 | 7.390617 |\n",
       "| 15 | 6.270990 | 5.883196 | 6.658784 |\n",
       "| 16 | 6.606450 | 6.306797 | 6.906103 |\n",
       "| 17 | 7.303450 | 7.027737 | 7.579164 |\n",
       "| 18 | 7.169626 | 6.888308 | 7.450945 |\n",
       "| 19 | 5.856040 | 5.385019 | 6.327062 |\n",
       "| 20 | 7.062445 | 6.650390 | 7.474500 |\n",
       "| 21 | 6.563960 | 6.311277 | 6.816643 |\n",
       "| 22 | 6.991270 | 6.691563 | 7.290978 |\n",
       "| 23 | 6.933851 | 6.420114 | 7.447587 |\n",
       "| 24 | 6.724114 | 6.334271 | 7.113957 |\n",
       "| 25 | 6.920054 | 6.518362 | 7.321746 |\n",
       "| 26 | 6.790664 | 6.378453 | 7.202875 |\n",
       "| 27 | 6.692290 | 6.192259 | 7.192321 |\n",
       "\n"
      ],
      "text/plain": [
       "   fit      lwr      upr     \n",
       "1  7.723305 7.376564 8.070047\n",
       "2  7.877846 7.510676 8.245017\n",
       "3  7.681668 7.315674 8.047663\n",
       "4  6.990945 6.492280 7.489610\n",
       "5  7.031551 6.718563 7.344538\n",
       "6  7.550754 7.189570 7.911938\n",
       "7  6.796913 6.283987 7.309838\n",
       "8  8.378552 7.905203 8.851901\n",
       "9  7.501534 7.181512 7.821557\n",
       "10 6.615769 6.295544 6.935995\n",
       "11 7.530846 7.111345 7.950347\n",
       "12 5.914287 5.472491 6.356084\n",
       "13 7.552078 7.128743 7.975413\n",
       "14 7.101346 6.812076 7.390617\n",
       "15 6.270990 5.883196 6.658784\n",
       "16 6.606450 6.306797 6.906103\n",
       "17 7.303450 7.027737 7.579164\n",
       "18 7.169626 6.888308 7.450945\n",
       "19 5.856040 5.385019 6.327062\n",
       "20 7.062445 6.650390 7.474500\n",
       "21 6.563960 6.311277 6.816643\n",
       "22 6.991270 6.691563 7.290978\n",
       "23 6.933851 6.420114 7.447587\n",
       "24 6.724114 6.334271 7.113957\n",
       "25 6.920054 6.518362 7.321746\n",
       "26 6.790664 6.378453 7.202875\n",
       "27 6.692290 6.192259 7.192321"
      ]
     },
     "metadata": {},
     "output_type": "display_data"
    },
    {
     "data": {
      "text/html": [
       "<table class=\"dataframe\">\n",
       "<caption>A matrix: 27 × 3 of type dbl</caption>\n",
       "<thead>\n",
       "\t<tr><th></th><th scope=col>fit</th><th scope=col>lwr</th><th scope=col>upr</th></tr>\n",
       "</thead>\n",
       "<tbody>\n",
       "\t<tr><th scope=row>1</th><td>7.431250</td><td>6.429024</td><td>8.433475</td></tr>\n",
       "\t<tr><th scope=row>2</th><td>7.563460</td><td>6.558930</td><td>8.567990</td></tr>\n",
       "\t<tr><th scope=row>3</th><td>7.438065</td><td>6.430118</td><td>8.446012</td></tr>\n",
       "\t<tr><th scope=row>4</th><td>6.681215</td><td>5.623506</td><td>7.738923</td></tr>\n",
       "\t<tr><th scope=row>5</th><td>6.811697</td><td>5.823238</td><td>7.800156</td></tr>\n",
       "\t<tr><th scope=row>6</th><td>7.447107</td><td>6.414916</td><td>8.479298</td></tr>\n",
       "\t<tr><th scope=row>7</th><td>6.670435</td><td>5.559269</td><td>7.781601</td></tr>\n",
       "\t<tr><th scope=row>8</th><td>8.322543</td><td>7.213616</td><td>9.431470</td></tr>\n",
       "\t<tr><th scope=row>9</th><td>7.365264</td><td>6.351187</td><td>8.379342</td></tr>\n",
       "\t<tr><th scope=row>10</th><td>6.462380</td><td>5.453450</td><td>7.471309</td></tr>\n",
       "\t<tr><th scope=row>11</th><td>7.516221</td><td>6.460375</td><td>8.572067</td></tr>\n",
       "\t<tr><th scope=row>12</th><td>5.799463</td><td>4.721547</td><td>6.877379</td></tr>\n",
       "\t<tr><th scope=row>13</th><td>7.564623</td><td>6.526337</td><td>8.602909</td></tr>\n",
       "\t<tr><th scope=row>14</th><td>7.100347</td><td>6.105304</td><td>8.095390</td></tr>\n",
       "\t<tr><th scope=row>15</th><td>6.312688</td><td>5.253070</td><td>7.372307</td></tr>\n",
       "\t<tr><th scope=row>16</th><td>6.691094</td><td>5.675032</td><td>7.707157</td></tr>\n",
       "\t<tr><th scope=row>17</th><td>7.396229</td><td>6.402206</td><td>8.390252</td></tr>\n",
       "\t<tr><th scope=row>18</th><td>7.293085</td><td>6.299974</td><td>8.286197</td></tr>\n",
       "\t<tr><th scope=row>19</th><td>5.836791</td><td>4.733205</td><td>6.940377</td></tr>\n",
       "\t<tr><th scope=row>20</th><td>7.242572</td><td>6.190806</td><td>8.294339</td></tr>\n",
       "\t<tr><th scope=row>21</th><td>6.729186</td><td>5.739665</td><td>7.718708</td></tr>\n",
       "\t<tr><th scope=row>22</th><td>7.236745</td><td>6.242634</td><td>8.230856</td></tr>\n",
       "\t<tr><th scope=row>23</th><td>7.262506</td><td>6.183702</td><td>8.341310</td></tr>\n",
       "\t<tr><th scope=row>24</th><td>6.886860</td><td>5.839388</td><td>7.934331</td></tr>\n",
       "\t<tr><th scope=row>25</th><td>7.109234</td><td>6.073050</td><td>8.145417</td></tr>\n",
       "\t<tr><th scope=row>26</th><td>7.042256</td><td>6.046203</td><td>8.038308</td></tr>\n",
       "\t<tr><th scope=row>27</th><td>6.919283</td><td>5.898256</td><td>7.940310</td></tr>\n",
       "</tbody>\n",
       "</table>\n"
      ],
      "text/latex": [
       "A matrix: 27 × 3 of type dbl\n",
       "\\begin{tabular}{r|lll}\n",
       "  & fit & lwr & upr\\\\\n",
       "\\hline\n",
       "\t1 & 7.431250 & 6.429024 & 8.433475\\\\\n",
       "\t2 & 7.563460 & 6.558930 & 8.567990\\\\\n",
       "\t3 & 7.438065 & 6.430118 & 8.446012\\\\\n",
       "\t4 & 6.681215 & 5.623506 & 7.738923\\\\\n",
       "\t5 & 6.811697 & 5.823238 & 7.800156\\\\\n",
       "\t6 & 7.447107 & 6.414916 & 8.479298\\\\\n",
       "\t7 & 6.670435 & 5.559269 & 7.781601\\\\\n",
       "\t8 & 8.322543 & 7.213616 & 9.431470\\\\\n",
       "\t9 & 7.365264 & 6.351187 & 8.379342\\\\\n",
       "\t10 & 6.462380 & 5.453450 & 7.471309\\\\\n",
       "\t11 & 7.516221 & 6.460375 & 8.572067\\\\\n",
       "\t12 & 5.799463 & 4.721547 & 6.877379\\\\\n",
       "\t13 & 7.564623 & 6.526337 & 8.602909\\\\\n",
       "\t14 & 7.100347 & 6.105304 & 8.095390\\\\\n",
       "\t15 & 6.312688 & 5.253070 & 7.372307\\\\\n",
       "\t16 & 6.691094 & 5.675032 & 7.707157\\\\\n",
       "\t17 & 7.396229 & 6.402206 & 8.390252\\\\\n",
       "\t18 & 7.293085 & 6.299974 & 8.286197\\\\\n",
       "\t19 & 5.836791 & 4.733205 & 6.940377\\\\\n",
       "\t20 & 7.242572 & 6.190806 & 8.294339\\\\\n",
       "\t21 & 6.729186 & 5.739665 & 7.718708\\\\\n",
       "\t22 & 7.236745 & 6.242634 & 8.230856\\\\\n",
       "\t23 & 7.262506 & 6.183702 & 8.341310\\\\\n",
       "\t24 & 6.886860 & 5.839388 & 7.934331\\\\\n",
       "\t25 & 7.109234 & 6.073050 & 8.145417\\\\\n",
       "\t26 & 7.042256 & 6.046203 & 8.038308\\\\\n",
       "\t27 & 6.919283 & 5.898256 & 7.940310\\\\\n",
       "\\end{tabular}\n"
      ],
      "text/markdown": [
       "\n",
       "A matrix: 27 × 3 of type dbl\n",
       "\n",
       "| <!--/--> | fit | lwr | upr |\n",
       "|---|---|---|---|\n",
       "| 1 | 7.431250 | 6.429024 | 8.433475 |\n",
       "| 2 | 7.563460 | 6.558930 | 8.567990 |\n",
       "| 3 | 7.438065 | 6.430118 | 8.446012 |\n",
       "| 4 | 6.681215 | 5.623506 | 7.738923 |\n",
       "| 5 | 6.811697 | 5.823238 | 7.800156 |\n",
       "| 6 | 7.447107 | 6.414916 | 8.479298 |\n",
       "| 7 | 6.670435 | 5.559269 | 7.781601 |\n",
       "| 8 | 8.322543 | 7.213616 | 9.431470 |\n",
       "| 9 | 7.365264 | 6.351187 | 8.379342 |\n",
       "| 10 | 6.462380 | 5.453450 | 7.471309 |\n",
       "| 11 | 7.516221 | 6.460375 | 8.572067 |\n",
       "| 12 | 5.799463 | 4.721547 | 6.877379 |\n",
       "| 13 | 7.564623 | 6.526337 | 8.602909 |\n",
       "| 14 | 7.100347 | 6.105304 | 8.095390 |\n",
       "| 15 | 6.312688 | 5.253070 | 7.372307 |\n",
       "| 16 | 6.691094 | 5.675032 | 7.707157 |\n",
       "| 17 | 7.396229 | 6.402206 | 8.390252 |\n",
       "| 18 | 7.293085 | 6.299974 | 8.286197 |\n",
       "| 19 | 5.836791 | 4.733205 | 6.940377 |\n",
       "| 20 | 7.242572 | 6.190806 | 8.294339 |\n",
       "| 21 | 6.729186 | 5.739665 | 7.718708 |\n",
       "| 22 | 7.236745 | 6.242634 | 8.230856 |\n",
       "| 23 | 7.262506 | 6.183702 | 8.341310 |\n",
       "| 24 | 6.886860 | 5.839388 | 7.934331 |\n",
       "| 25 | 7.109234 | 6.073050 | 8.145417 |\n",
       "| 26 | 7.042256 | 6.046203 | 8.038308 |\n",
       "| 27 | 6.919283 | 5.898256 | 7.940310 |\n",
       "\n"
      ],
      "text/plain": [
       "   fit      lwr      upr     \n",
       "1  7.431250 6.429024 8.433475\n",
       "2  7.563460 6.558930 8.567990\n",
       "3  7.438065 6.430118 8.446012\n",
       "4  6.681215 5.623506 7.738923\n",
       "5  6.811697 5.823238 7.800156\n",
       "6  7.447107 6.414916 8.479298\n",
       "7  6.670435 5.559269 7.781601\n",
       "8  8.322543 7.213616 9.431470\n",
       "9  7.365264 6.351187 8.379342\n",
       "10 6.462380 5.453450 7.471309\n",
       "11 7.516221 6.460375 8.572067\n",
       "12 5.799463 4.721547 6.877379\n",
       "13 7.564623 6.526337 8.602909\n",
       "14 7.100347 6.105304 8.095390\n",
       "15 6.312688 5.253070 7.372307\n",
       "16 6.691094 5.675032 7.707157\n",
       "17 7.396229 6.402206 8.390252\n",
       "18 7.293085 6.299974 8.286197\n",
       "19 5.836791 4.733205 6.940377\n",
       "20 7.242572 6.190806 8.294339\n",
       "21 6.729186 5.739665 7.718708\n",
       "22 7.236745 6.242634 8.230856\n",
       "23 7.262506 6.183702 8.341310\n",
       "24 6.886860 5.839388 7.934331\n",
       "25 7.109234 6.073050 8.145417\n",
       "26 7.042256 6.046203 8.038308\n",
       "27 6.919283 5.898256 7.940310"
      ]
     },
     "metadata": {},
     "output_type": "display_data"
    }
   ],
   "source": [
    "predict(model3, newdata =wine , interval = \"confidence\", level=0.99)\n",
    "predict(model4, newdata =wine , interval = \"prediction\", level=0.99)"
   ]
  },
  {
   "cell_type": "code",
   "execution_count": 45,
   "id": "401f5ed3-22da-4f33-8167-b7dd079e44c9",
   "metadata": {
    "vscode": {
     "languageId": "r"
    }
   },
   "outputs": [
    {
     "name": "stderr",
     "output_type": "stream",
     "text": [
      "\u001b[1m\u001b[22m`geom_smooth()` using method = 'loess' and formula = 'y ~ x'\n"
     ]
    },
    {
     "data": {
      "image/png": "[encoded data removed]",
      "text/plain": [
       "plot without title"
      ]
     },
     "metadata": {
      "image/png": {
       "height": 420,
       "width": 420
      }
     },
     "output_type": "display_data"
    }
   ],
   "source": [
    "# Make predictions\n",
    "predictions3 <- model3 %>% predict(wine)\n",
    "predictions4 <- model4 %>% predict(wine)\n",
    "# Model performance\n",
    "# (a) Compute the prediction error, RMSE\n",
    "ss3=RMSE(predictions3, wine$Price)\n",
    "ss4=RMSE(predictions4, wine$Price)\n",
    "# (b) Compute R-square\n",
    "r2_3=R2(predictions3, wine$Price)\n",
    "r2_4=R2(predictions4, wine$Price)\n",
    "##scatter plot\n",
    "ggplot(wine, aes(x = AGST, y = Price)) + geom_point() +stat_smooth()"
   ]
  },
  {
   "cell_type": "code",
   "execution_count": 60,
   "id": "3a2e9821-2514-4003-b072-219fe412a6ad",
   "metadata": {
    "vscode": {
     "languageId": "r"
    }
   },
   "outputs": [
    {
     "data": {
      "text/html": [
       "0.25842701897616"
      ],
      "text/latex": [
       "0.25842701897616"
      ],
      "text/markdown": [
       "0.25842701897616"
      ],
      "text/plain": [
       "[1] 0.258427"
      ]
     },
     "metadata": {},
     "output_type": "display_data"
    }
   ],
   "source": [
    "# SSE cho model3\n",
    "ss3"
   ]
  },
  {
   "cell_type": "code",
   "execution_count": 59,
   "id": "12ff7d53-fb9e-4bab-a3d9-e217b39a9f06",
   "metadata": {
    "vscode": {
     "languageId": "r"
    }
   },
   "outputs": [
    {
     "data": {
      "text/html": [
       "0.317087484202936"
      ],
      "text/latex": [
       "0.317087484202936"
      ],
      "text/markdown": [
       "0.317087484202936"
      ],
      "text/plain": [
       "[1] 0.3170875"
      ]
     },
     "metadata": {},
     "output_type": "display_data"
    }
   ],
   "source": [
    "# SSE cho model4\n",
    "ss4"
   ]
  },
  {
   "cell_type": "code",
   "execution_count": 57,
   "id": "c06cba1c-f67b-43d5-92fb-05366f2e9c7c",
   "metadata": {
    "vscode": {
     "languageId": "r"
    }
   },
   "outputs": [
    {
     "data": {
      "text/html": [
       "0.827781482242463"
      ],
      "text/latex": [
       "0.827781482242463"
      ],
      "text/markdown": [
       "0.827781482242463"
      ],
      "text/plain": [
       "[1] 0.8277815"
      ]
     },
     "metadata": {},
     "output_type": "display_data"
    }
   ],
   "source": [
    "# R^2 cho model3\n",
    "r2_3"
   ]
  },
  {
   "cell_type": "code",
   "execution_count": 56,
   "id": "1a3f8c69-ede6-43b3-8719-2fda97fcd51a",
   "metadata": {
    "vscode": {
     "languageId": "r"
    }
   },
   "outputs": [
    {
     "data": {
      "text/html": [
       "0.740724063392907"
      ],
      "text/latex": [
       "0.740724063392907"
      ],
      "text/markdown": [
       "0.740724063392907"
      ],
      "text/plain": [
       "[1] 0.7407241"
      ]
     },
     "metadata": {},
     "output_type": "display_data"
    }
   ],
   "source": [
    "# R^2 cho model4\n",
    "r2_4"
   ]
  },
  {
   "cell_type": "code",
   "execution_count": 54,
   "id": "1728ea5c-d79d-4543-b0df-9c282ea9e467",
   "metadata": {
    "vscode": {
     "languageId": "r"
    }
   },
   "outputs": [],
   "source": [
    "library(rgl)\n",
    "\n",
    "# Create a 3D scatter plot\n",
    "plot3d(wine$HarvestRain, wine$WinterRain, wine$Price, \n",
    "       xlab = \"HarvestRain\", ylab = \"WinterRain\", zlab = \"Price\", \n",
    "       col = \"blue\", type = \"s\", radius = 0.1)\n",
    "\n",
    "# Fit a linear model to HarvestRain and WinterRain\n",
    "model <- lm(Price ~ HarvestRain + WinterRain, data = wine)\n",
    "\n",
    "# Extract coefficients\n",
    "coef <- coef(model)\n",
    "\n",
    "# Define the hyperplane equation: ax + by + cz + d = 0\n",
    "a <- coef[\"HarvestRain\"]\n",
    "b <- coef[\"WinterRain\"]\n",
    "c <- 1  # Coefficient for the z-axis (Price)\n",
    "d <- -coef[\"(Intercept)\"]\n",
    "\n",
    "# Create a grid of points\n",
    "x <- seq(min(wine$HarvestRain), max(wine$HarvestRain), length.out = 20)\n",
    "y <- seq(min(wine$WinterRain), max(wine$WinterRain), length.out = 20)\n",
    "grid <- expand.grid(x, y)\n",
    "\n",
    "# Compute z values for the hyperplane\n",
    "z <- (-a * grid[,1] - b * grid[,2] - d) / c\n",
    "\n",
    "# Add the hyperplane to the plot\n",
    "planes3d(a = a, b = b, c = c, d = d, alpha = 0.5, col = \"red\")"
   ]
  }
 ],
 "metadata": {
  "kernelspec": {
   "display_name": "R",
   "language": "R",
   "name": "ir"
  },
  "language_info": {
   "codemirror_mode": "r",
   "file_extension": ".r",
   "mimetype": "text/x-r-source",
   "name": "R",
   "pygments_lexer": "r",
   "version": "4.4.0"
  }
 },
 "nbformat": 4,
 "nbformat_minor": 5
}
